{
 "cells": [
  {
   "cell_type": "markdown",
   "id": "d962e89f",
   "metadata": {},
   "source": [
    "## Topic-1"
   ]
  },
  {
   "cell_type": "markdown",
   "id": "398735d2",
   "metadata": {},
   "source": [
    "## Introduction to Programming"
   ]
  },
  {
   "cell_type": "markdown",
   "id": "8ec86287",
   "metadata": {},
   "source": [
    "## Variables"
   ]
  },
  {
   "cell_type": "code",
   "execution_count": 1,
   "id": "1f65b6b9",
   "metadata": {},
   "outputs": [
    {
     "name": "stdout",
     "output_type": "stream",
     "text": [
      "salt\n"
     ]
    }
   ],
   "source": [
    "item = \"salt\"\n",
    "print(item)"
   ]
  },
  {
   "cell_type": "code",
   "execution_count": 2,
   "id": "632b4eab",
   "metadata": {},
   "outputs": [
    {
     "name": "stdout",
     "output_type": "stream",
     "text": [
      "BMW\n"
     ]
    }
   ],
   "source": [
    "carname=\"BMW\"\n",
    "print(carname)"
   ]
  },
  {
   "cell_type": "code",
   "execution_count": 3,
   "id": "90518ef6",
   "metadata": {},
   "outputs": [
    {
     "name": "stdout",
     "output_type": "stream",
     "text": [
      "10\n"
     ]
    }
   ],
   "source": [
    "a = 10\n",
    "print(a)"
   ]
  },
  {
   "cell_type": "code",
   "execution_count": 4,
   "id": "d2fff63a",
   "metadata": {},
   "outputs": [
    {
     "data": {
      "text/plain": [
       "int"
      ]
     },
     "execution_count": 4,
     "metadata": {},
     "output_type": "execute_result"
    }
   ],
   "source": [
    "type(a)"
   ]
  },
  {
   "cell_type": "markdown",
   "id": "4247e45e",
   "metadata": {},
   "source": [
    "### If you are passing a string/text it must be wrapped inside quotes"
   ]
  },
  {
   "cell_type": "code",
   "execution_count": 5,
   "id": "104ac4b4",
   "metadata": {},
   "outputs": [
    {
     "name": "stdout",
     "output_type": "stream",
     "text": [
      "10\n"
     ]
    }
   ],
   "source": [
    "value = \"10\"\n",
    "print(value)"
   ]
  },
  {
   "cell_type": "code",
   "execution_count": 6,
   "id": "d3154edb",
   "metadata": {},
   "outputs": [
    {
     "data": {
      "text/plain": [
       "str"
      ]
     },
     "execution_count": 6,
     "metadata": {},
     "output_type": "execute_result"
    }
   ],
   "source": [
    "type(value)"
   ]
  },
  {
   "cell_type": "code",
   "execution_count": 7,
   "id": "f79307df",
   "metadata": {},
   "outputs": [
    {
     "name": "stdout",
     "output_type": "stream",
     "text": [
      "test output\n"
     ]
    }
   ],
   "source": [
    "output = \"test output\"\n",
    "# this is my first comment\n",
    "print(output)"
   ]
  },
  {
   "cell_type": "code",
   "execution_count": 8,
   "id": "234d2ea3",
   "metadata": {},
   "outputs": [
    {
     "data": {
      "text/plain": [
       "'data science'"
      ]
     },
     "execution_count": 8,
     "metadata": {},
     "output_type": "execute_result"
    }
   ],
   "source": [
    "test = \"data science\"\n",
    "test"
   ]
  },
  {
   "cell_type": "code",
   "execution_count": 9,
   "id": "ced08fd9",
   "metadata": {},
   "outputs": [
    {
     "data": {
      "text/plain": [
       "'value'"
      ]
     },
     "execution_count": 9,
     "metadata": {},
     "output_type": "execute_result"
    }
   ],
   "source": [
    "test2 = 'value'\n",
    "test2"
   ]
  },
  {
   "cell_type": "code",
   "execution_count": 10,
   "id": "17302171",
   "metadata": {},
   "outputs": [],
   "source": [
    "name = \"Nisam\" "
   ]
  },
  {
   "cell_type": "code",
   "execution_count": 11,
   "id": "6641c705",
   "metadata": {},
   "outputs": [
    {
     "data": {
      "text/plain": [
       "'Nisam'"
      ]
     },
     "execution_count": 11,
     "metadata": {},
     "output_type": "execute_result"
    }
   ],
   "source": [
    "first_name = \"Nisam\"\n",
    "first_name"
   ]
  },
  {
   "cell_type": "code",
   "execution_count": 12,
   "id": "48f1010a",
   "metadata": {},
   "outputs": [
    {
     "data": {
      "text/plain": [
       "'Nisam'"
      ]
     },
     "execution_count": 12,
     "metadata": {},
     "output_type": "execute_result"
    }
   ],
   "source": [
    "name"
   ]
  },
  {
   "cell_type": "code",
   "execution_count": 13,
   "id": "7799cb99",
   "metadata": {},
   "outputs": [
    {
     "data": {
      "text/plain": [
       "10"
      ]
     },
     "execution_count": 13,
     "metadata": {},
     "output_type": "execute_result"
    }
   ],
   "source": [
    "10"
   ]
  },
  {
   "cell_type": "code",
   "execution_count": 14,
   "id": "f95c709a",
   "metadata": {},
   "outputs": [
    {
     "data": {
      "text/plain": [
       "30"
      ]
     },
     "execution_count": 14,
     "metadata": {},
     "output_type": "execute_result"
    }
   ],
   "source": [
    "10+20"
   ]
  },
  {
   "cell_type": "code",
   "execution_count": 15,
   "id": "f5c98a3c",
   "metadata": {},
   "outputs": [
    {
     "ename": "NameError",
     "evalue": "name 'b' is not defined",
     "output_type": "error",
     "traceback": [
      "\u001b[1;31m---------------------------------------------------------------------------\u001b[0m",
      "\u001b[1;31mNameError\u001b[0m                                 Traceback (most recent call last)",
      "Cell \u001b[1;32mIn[15], line 2\u001b[0m\n\u001b[0;32m      1\u001b[0m a \u001b[38;5;241m=\u001b[39m \u001b[38;5;241m10\u001b[39m\n\u001b[1;32m----> 2\u001b[0m a\u001b[38;5;241m*\u001b[39m\u001b[43mb\u001b[49m\n",
      "\u001b[1;31mNameError\u001b[0m: name 'b' is not defined"
     ]
    }
   ],
   "source": [
    "a = 10\n",
    "a*b"
   ]
  },
  {
   "cell_type": "code",
   "execution_count": null,
   "id": "03e3590e",
   "metadata": {},
   "outputs": [],
   "source": [
    "value = \"ten\"\n",
    "type(value)"
   ]
  },
  {
   "cell_type": "code",
   "execution_count": null,
   "id": "f4a7c09c",
   "metadata": {},
   "outputs": [],
   "source": [
    "name=\"virat\"\n",
    "name=\"sachin\"\n",
    "name"
   ]
  },
  {
   "cell_type": "code",
   "execution_count": null,
   "id": "393f8254",
   "metadata": {},
   "outputs": [],
   "source": [
    "country1=\"India\""
   ]
  },
  {
   "cell_type": "code",
   "execution_count": null,
   "id": "f0a03d0c",
   "metadata": {},
   "outputs": [],
   "source": [
    "country1"
   ]
  },
  {
   "cell_type": "code",
   "execution_count": null,
   "id": "c3ce7acb",
   "metadata": {
    "scrolled": true
   },
   "outputs": [],
   "source": [
    "name = \"nisam\"\n",
    "value = 20\n",
    "print(name)\n",
    "print(value)"
   ]
  },
  {
   "cell_type": "code",
   "execution_count": null,
   "id": "b233d467",
   "metadata": {},
   "outputs": [],
   "source": [
    "print(name,value)"
   ]
  },
  {
   "cell_type": "code",
   "execution_count": null,
   "id": "c6ec58b3",
   "metadata": {},
   "outputs": [],
   "source": [
    "a = 20\n",
    "b = 30\n",
    "c = a*b\n",
    "c"
   ]
  },
  {
   "cell_type": "code",
   "execution_count": null,
   "id": "3bd63ab5",
   "metadata": {},
   "outputs": [],
   "source": [
    "a = 20\n",
    "b = 30\n",
    "c = a/b\n",
    "c"
   ]
  },
  {
   "cell_type": "code",
   "execution_count": null,
   "id": "c1866606",
   "metadata": {},
   "outputs": [],
   "source": [
    "carname=\"BMW\""
   ]
  },
  {
   "cell_type": "code",
   "execution_count": null,
   "id": "8d70c7ee",
   "metadata": {},
   "outputs": [],
   "source": [
    "a = 10"
   ]
  },
  {
   "cell_type": "code",
   "execution_count": null,
   "id": "dcd9a577",
   "metadata": {},
   "outputs": [],
   "source": [
    "b=200"
   ]
  },
  {
   "cell_type": "code",
   "execution_count": null,
   "id": "1cb47b48",
   "metadata": {},
   "outputs": [],
   "source": [
    "c = a+b"
   ]
  },
  {
   "cell_type": "code",
   "execution_count": null,
   "id": "8c67fd0e",
   "metadata": {},
   "outputs": [],
   "source": [
    "c"
   ]
  },
  {
   "cell_type": "code",
   "execution_count": null,
   "id": "d898213c",
   "metadata": {},
   "outputs": [],
   "source": [
    "val1,val2 = 10,20\n",
    "val1"
   ]
  },
  {
   "cell_type": "code",
   "execution_count": null,
   "id": "6e55da44",
   "metadata": {},
   "outputs": [],
   "source": [
    "val2"
   ]
  },
  {
   "cell_type": "markdown",
   "id": "8d54bbea",
   "metadata": {},
   "source": [
    "player1,player2,player3 = \""
   ]
  },
  {
   "cell_type": "code",
   "execution_count": null,
   "id": "645287a1",
   "metadata": {},
   "outputs": [],
   "source": [
    "player1,player2,player3 = \"Messi\",\"CR7\",\"Neymar\""
   ]
  },
  {
   "cell_type": "code",
   "execution_count": null,
   "id": "05bbf3ae",
   "metadata": {},
   "outputs": [],
   "source": [
    "print(player1,player2,player3)"
   ]
  },
  {
   "cell_type": "code",
   "execution_count": null,
   "id": "c17fb88c",
   "metadata": {},
   "outputs": [],
   "source": [
    "player2"
   ]
  },
  {
   "cell_type": "code",
   "execution_count": null,
   "id": "aa0dc458",
   "metadata": {},
   "outputs": [],
   "source": [
    "player3"
   ]
  },
  {
   "cell_type": "code",
   "execution_count": null,
   "id": "6945e027",
   "metadata": {},
   "outputs": [],
   "source": [
    "x,y,z  =10,20,30"
   ]
  },
  {
   "cell_type": "code",
   "execution_count": null,
   "id": "2edc72cb",
   "metadata": {},
   "outputs": [],
   "source": [
    "x,y,z = 10,\"Hello\",True"
   ]
  },
  {
   "cell_type": "code",
   "execution_count": null,
   "id": "e9abce00",
   "metadata": {},
   "outputs": [],
   "source": [
    "x= 10,y='Hello',z=True"
   ]
  },
  {
   "cell_type": "code",
   "execution_count": null,
   "id": "49cebd98",
   "metadata": {},
   "outputs": [],
   "source": [
    "import builtins"
   ]
  },
  {
   "cell_type": "code",
   "execution_count": null,
   "id": "51c4f57b",
   "metadata": {},
   "outputs": [],
   "source": [
    "dir(builtins)"
   ]
  },
  {
   "cell_type": "code",
   "execution_count": null,
   "id": "23b6b3ab",
   "metadata": {},
   "outputs": [],
   "source": [
    "sum = 10"
   ]
  },
  {
   "cell_type": "code",
   "execution_count": null,
   "id": "ce9f5e30",
   "metadata": {},
   "outputs": [],
   "source": [
    "sum = 10\n",
    "print(sum)"
   ]
  },
  {
   "cell_type": "code",
   "execution_count": null,
   "id": "5d09eb86",
   "metadata": {},
   "outputs": [],
   "source": [
    "str = 10"
   ]
  },
  {
   "cell_type": "code",
   "execution_count": null,
   "id": "9b450f01",
   "metadata": {},
   "outputs": [],
   "source": [
    "str"
   ]
  },
  {
   "cell_type": "code",
   "execution_count": null,
   "id": "d8a584ce",
   "metadata": {},
   "outputs": [],
   "source": [
    "name = \"nisam\"\n",
    "NAME = \"aLEX\""
   ]
  },
  {
   "cell_type": "code",
   "execution_count": null,
   "id": "4c930184",
   "metadata": {},
   "outputs": [],
   "source": [
    "NAME"
   ]
  },
  {
   "cell_type": "code",
   "execution_count": null,
   "id": "4b4ae4e8",
   "metadata": {},
   "outputs": [],
   "source": [
    "name"
   ]
  },
  {
   "cell_type": "code",
   "execution_count": null,
   "id": "9e5ac8b6",
   "metadata": {},
   "outputs": [],
   "source": [
    "Name = \"out\""
   ]
  },
  {
   "cell_type": "code",
   "execution_count": null,
   "id": "6b9f004c",
   "metadata": {},
   "outputs": [],
   "source": [
    "Name"
   ]
  },
  {
   "cell_type": "code",
   "execution_count": null,
   "id": "2b8333b6",
   "metadata": {},
   "outputs": [],
   "source": [
    "_output = 10\n",
    "_output"
   ]
  },
  {
   "cell_type": "code",
   "execution_count": null,
   "id": "71090b04",
   "metadata": {},
   "outputs": [],
   "source": [
    "_ = 10"
   ]
  },
  {
   "cell_type": "code",
   "execution_count": null,
   "id": "f90f2032",
   "metadata": {},
   "outputs": [],
   "source": [
    "_"
   ]
  },
  {
   "cell_type": "code",
   "execution_count": null,
   "id": "54f12d63",
   "metadata": {},
   "outputs": [],
   "source": [
    "_"
   ]
  },
  {
   "cell_type": "code",
   "execution_count": null,
   "id": "a6925695",
   "metadata": {},
   "outputs": [],
   "source": [
    "out = 20\n",
    "out"
   ]
  },
  {
   "cell_type": "markdown",
   "id": "cd44ad70",
   "metadata": {},
   "source": [
    "## Data Types"
   ]
  },
  {
   "cell_type": "markdown",
   "id": "ad83ed4f",
   "metadata": {},
   "source": [
    "## String"
   ]
  },
  {
   "cell_type": "code",
   "execution_count": null,
   "id": "6833e94c",
   "metadata": {},
   "outputs": [],
   "source": [
    "name = \"Sanju Samson\""
   ]
  },
  {
   "cell_type": "code",
   "execution_count": null,
   "id": "8399057c",
   "metadata": {},
   "outputs": [],
   "source": [
    "name"
   ]
  },
  {
   "cell_type": "code",
   "execution_count": null,
   "id": "30ada446",
   "metadata": {},
   "outputs": [],
   "source": [
    "type(name)"
   ]
  },
  {
   "cell_type": "code",
   "execution_count": null,
   "id": "1453bbc7",
   "metadata": {},
   "outputs": [],
   "source": [
    "# help(str)"
   ]
  },
  {
   "cell_type": "code",
   "execution_count": null,
   "id": "5c894bf0",
   "metadata": {},
   "outputs": [],
   "source": [
    "name2 = 'Virat'\n",
    "name2"
   ]
  },
  {
   "cell_type": "code",
   "execution_count": null,
   "id": "711130ea",
   "metadata": {},
   "outputs": [],
   "source": [
    "desc = \"This is the second lecture on Python\""
   ]
  },
  {
   "cell_type": "markdown",
   "id": "1f7dbe03",
   "metadata": {},
   "source": [
    "## integer"
   ]
  },
  {
   "cell_type": "code",
   "execution_count": null,
   "id": "560ec5e5",
   "metadata": {},
   "outputs": [],
   "source": [
    "a = 20\n",
    "type(a)"
   ]
  },
  {
   "cell_type": "code",
   "execution_count": null,
   "id": "57b58ee5",
   "metadata": {},
   "outputs": [],
   "source": [
    "help(int)"
   ]
  },
  {
   "cell_type": "code",
   "execution_count": null,
   "id": "290b321f",
   "metadata": {},
   "outputs": [],
   "source": [
    "b=0\n",
    "type(b)"
   ]
  },
  {
   "cell_type": "markdown",
   "id": "8eee9d54",
   "metadata": {},
   "source": [
    "## floats"
   ]
  },
  {
   "cell_type": "code",
   "execution_count": null,
   "id": "25e50bee",
   "metadata": {},
   "outputs": [],
   "source": [
    "pi = 3.14\n",
    "type(pi)"
   ]
  },
  {
   "cell_type": "markdown",
   "id": "db2e66a5",
   "metadata": {},
   "source": [
    "## Boolean"
   ]
  },
  {
   "cell_type": "markdown",
   "id": "39751000",
   "metadata": {},
   "source": [
    "## True and False"
   ]
  },
  {
   "cell_type": "code",
   "execution_count": null,
   "id": "94e705f9",
   "metadata": {},
   "outputs": [],
   "source": [
    "out = False\n",
    "type(out)"
   ]
  },
  {
   "cell_type": "code",
   "execution_count": null,
   "id": "7ed89eb2",
   "metadata": {},
   "outputs": [],
   "source": [
    "# help(bool)"
   ]
  },
  {
   "cell_type": "code",
   "execution_count": null,
   "id": "6b6cab0a",
   "metadata": {},
   "outputs": [],
   "source": [
    "v = True + False\n",
    "v"
   ]
  },
  {
   "cell_type": "markdown",
   "id": "4a0c227c",
   "metadata": {},
   "source": [
    "## Collections"
   ]
  },
  {
   "cell_type": "markdown",
   "id": "9b32328c",
   "metadata": {},
   "source": [
    "## String"
   ]
  },
  {
   "cell_type": "code",
   "execution_count": null,
   "id": "b3be389f",
   "metadata": {},
   "outputs": [],
   "source": [
    "name = 'sanju samson'\n",
    "name"
   ]
  },
  {
   "cell_type": "code",
   "execution_count": null,
   "id": "da4e6768",
   "metadata": {},
   "outputs": [],
   "source": [
    "len(name)"
   ]
  },
  {
   "cell_type": "code",
   "execution_count": null,
   "id": "3d3b1c05",
   "metadata": {},
   "outputs": [],
   "source": [
    "# a = 10\n",
    "# len(a)"
   ]
  },
  {
   "cell_type": "code",
   "execution_count": null,
   "id": "fd953b77",
   "metadata": {},
   "outputs": [],
   "source": [
    "a = True\n",
    "len(a)"
   ]
  },
  {
   "cell_type": "code",
   "execution_count": null,
   "id": "d67beb5b",
   "metadata": {},
   "outputs": [],
   "source": [
    "name"
   ]
  },
  {
   "cell_type": "code",
   "execution_count": null,
   "id": "a417e019",
   "metadata": {},
   "outputs": [],
   "source": []
  },
  {
   "cell_type": "code",
   "execution_count": null,
   "id": "ba6a14de",
   "metadata": {},
   "outputs": [],
   "source": [
    "#you can retrieve slice af a collection by using square bracket"
   ]
  },
  {
   "cell_type": "code",
   "execution_count": null,
   "id": "bc77078d",
   "metadata": {},
   "outputs": [],
   "source": [
    "name[0]"
   ]
  },
  {
   "cell_type": "code",
   "execution_count": null,
   "id": "8943a243",
   "metadata": {},
   "outputs": [],
   "source": [
    "name[1]"
   ]
  },
  {
   "cell_type": "code",
   "execution_count": null,
   "id": "19d817f4",
   "metadata": {},
   "outputs": [],
   "source": [
    "name[2]"
   ]
  },
  {
   "cell_type": "code",
   "execution_count": null,
   "id": "92332252",
   "metadata": {},
   "outputs": [],
   "source": [
    "name[0:5]"
   ]
  },
  {
   "cell_type": "code",
   "execution_count": null,
   "id": "460f0a0c",
   "metadata": {},
   "outputs": [],
   "source": [
    "course = \"Data Science\"\n",
    "course"
   ]
  },
  {
   "cell_type": "code",
   "execution_count": null,
   "id": "7182065e",
   "metadata": {},
   "outputs": [],
   "source": [
    "course[0:4]"
   ]
  },
  {
   "cell_type": "code",
   "execution_count": null,
   "id": "bc1c897f",
   "metadata": {},
   "outputs": [],
   "source": [
    "# course[-1]"
   ]
  },
  {
   "cell_type": "code",
   "execution_count": null,
   "id": "d9c58c1f",
   "metadata": {},
   "outputs": [],
   "source": [
    "# course[:]"
   ]
  },
  {
   "cell_type": "code",
   "execution_count": null,
   "id": "11bb66cb",
   "metadata": {},
   "outputs": [],
   "source": [
    "# course[:]"
   ]
  },
  {
   "cell_type": "markdown",
   "id": "0af17739",
   "metadata": {},
   "source": [
    "## array"
   ]
  },
  {
   "cell_type": "markdown",
   "id": "ae3d8359",
   "metadata": {},
   "source": [
    "## list"
   ]
  },
  {
   "cell_type": "code",
   "execution_count": null,
   "id": "c4f3bc91",
   "metadata": {},
   "outputs": [],
   "source": [
    "player1 = \"sanju\"\n",
    "player2 = \"virat\"\n",
    "player3 = \"sachin\"\n",
    "player4 = \"Sehwag\""
   ]
  },
  {
   "cell_type": "code",
   "execution_count": null,
   "id": "136f3b72",
   "metadata": {},
   "outputs": [],
   "source": [
    "myList = []"
   ]
  },
  {
   "cell_type": "code",
   "execution_count": null,
   "id": "43495955",
   "metadata": {},
   "outputs": [],
   "source": [
    "type(myList)"
   ]
  },
  {
   "cell_type": "code",
   "execution_count": null,
   "id": "79832269",
   "metadata": {},
   "outputs": [],
   "source": [
    "# help(list)"
   ]
  },
  {
   "cell_type": "code",
   "execution_count": null,
   "id": "d889164f",
   "metadata": {},
   "outputs": [],
   "source": [
    "indiaTeam = [\"Sanju\",\"Virat\",\"Sachin\",\"Sehwag\"]\n",
    "indiaTeam"
   ]
  },
  {
   "cell_type": "code",
   "execution_count": null,
   "id": "fcaf7f64",
   "metadata": {},
   "outputs": [],
   "source": [
    "type(indiaTeam)"
   ]
  },
  {
   "cell_type": "code",
   "execution_count": null,
   "id": "4894ce39",
   "metadata": {},
   "outputs": [],
   "source": [
    "indiaTeam[2]"
   ]
  },
  {
   "cell_type": "code",
   "execution_count": null,
   "id": "bfcddad0",
   "metadata": {},
   "outputs": [],
   "source": [
    "len(indiaTeam)"
   ]
  },
  {
   "cell_type": "code",
   "execution_count": null,
   "id": "62fc3496",
   "metadata": {},
   "outputs": [],
   "source": [
    "indiaTeam[3]"
   ]
  },
  {
   "cell_type": "code",
   "execution_count": null,
   "id": "2ca859c5",
   "metadata": {},
   "outputs": [],
   "source": [
    "indiaTeam[-1]"
   ]
  },
  {
   "cell_type": "code",
   "execution_count": null,
   "id": "7e84eeba",
   "metadata": {},
   "outputs": [],
   "source": [
    "indiaTeam"
   ]
  },
  {
   "cell_type": "code",
   "execution_count": null,
   "id": "f904ffa2",
   "metadata": {},
   "outputs": [],
   "source": [
    "indiaTeam[-2]"
   ]
  },
  {
   "cell_type": "code",
   "execution_count": null,
   "id": "6ed4d402",
   "metadata": {},
   "outputs": [],
   "source": [
    "indiaTeam[0:3]"
   ]
  },
  {
   "cell_type": "code",
   "execution_count": null,
   "id": "6813063f",
   "metadata": {},
   "outputs": [],
   "source": [
    "indiaTeam[1:4]"
   ]
  },
  {
   "cell_type": "code",
   "execution_count": null,
   "id": "341bb248",
   "metadata": {},
   "outputs": [],
   "source": [
    "indiaTeam"
   ]
  },
  {
   "cell_type": "code",
   "execution_count": null,
   "id": "e28fa6b8",
   "metadata": {},
   "outputs": [],
   "source": [
    "indiaTeam[-1]"
   ]
  },
  {
   "cell_type": "code",
   "execution_count": null,
   "id": "9e1b54ff",
   "metadata": {},
   "outputs": [],
   "source": [
    "indiaTeam[-2]"
   ]
  },
  {
   "cell_type": "code",
   "execution_count": null,
   "id": "97dedbf4",
   "metadata": {},
   "outputs": [],
   "source": [
    "indiaTeam[-1]"
   ]
  },
  {
   "cell_type": "code",
   "execution_count": null,
   "id": "6da3a16a",
   "metadata": {},
   "outputs": [],
   "source": [
    "indiaTeam[::-1]"
   ]
  },
  {
   "cell_type": "code",
   "execution_count": null,
   "id": "c0abcda3",
   "metadata": {},
   "outputs": [],
   "source": [
    "player = \"sanju samson\"\n",
    "player[::-1]"
   ]
  },
  {
   "cell_type": "code",
   "execution_count": null,
   "id": "0d92fc41",
   "metadata": {},
   "outputs": [],
   "source": [
    "indiaTeam"
   ]
  },
  {
   "cell_type": "code",
   "execution_count": null,
   "id": "aaffa3a0",
   "metadata": {},
   "outputs": [],
   "source": [
    "indiaTeam[0::]"
   ]
  },
  {
   "cell_type": "code",
   "execution_count": null,
   "id": "8382d3e7",
   "metadata": {},
   "outputs": [],
   "source": [
    "countries =['India','Srilanka','PAKISTAN','Afghanistan','Nepal','Bhutan','Bangladesh','Myanmer']\n",
    "countries"
   ]
  },
  {
   "cell_type": "code",
   "execution_count": null,
   "id": "5c247e38",
   "metadata": {},
   "outputs": [],
   "source": [
    "# help(list)"
   ]
  },
  {
   "cell_type": "code",
   "execution_count": null,
   "id": "9ccb1858",
   "metadata": {},
   "outputs": [],
   "source": [
    "countries[0]"
   ]
  },
  {
   "cell_type": "code",
   "execution_count": null,
   "id": "54bda724",
   "metadata": {},
   "outputs": [],
   "source": [
    "countries[::-1]"
   ]
  },
  {
   "cell_type": "code",
   "execution_count": null,
   "id": "f6dca4fc",
   "metadata": {},
   "outputs": [],
   "source": [
    "countries[0][2]"
   ]
  },
  {
   "cell_type": "code",
   "execution_count": null,
   "id": "1dd5af28",
   "metadata": {},
   "outputs": [],
   "source": [
    "countries"
   ]
  },
  {
   "cell_type": "code",
   "execution_count": null,
   "id": "d34f6173",
   "metadata": {},
   "outputs": [],
   "source": [
    "myList = ['Nisam',100,True,3.14]"
   ]
  },
  {
   "cell_type": "code",
   "execution_count": null,
   "id": "e71be0d3",
   "metadata": {},
   "outputs": [],
   "source": [
    "myList[2]"
   ]
  },
  {
   "cell_type": "code",
   "execution_count": null,
   "id": "1110d351",
   "metadata": {},
   "outputs": [],
   "source": [
    "myList[1]"
   ]
  },
  {
   "cell_type": "code",
   "execution_count": null,
   "id": "80ca4d06",
   "metadata": {},
   "outputs": [],
   "source": [
    "type(myList)"
   ]
  },
  {
   "cell_type": "code",
   "execution_count": null,
   "id": "a69c19fd",
   "metadata": {},
   "outputs": [],
   "source": [
    "len(myList)"
   ]
  },
  {
   "cell_type": "code",
   "execution_count": null,
   "id": "22251522",
   "metadata": {},
   "outputs": [],
   "source": [
    "myList"
   ]
  },
  {
   "cell_type": "code",
   "execution_count": null,
   "id": "8d063cd0",
   "metadata": {},
   "outputs": [],
   "source": [
    "myList[3] = \"Data Science\""
   ]
  },
  {
   "cell_type": "code",
   "execution_count": null,
   "id": "927155b6",
   "metadata": {},
   "outputs": [],
   "source": [
    "myList[2] = \"out\""
   ]
  },
  {
   "cell_type": "code",
   "execution_count": null,
   "id": "2bbf7c7a",
   "metadata": {},
   "outputs": [],
   "source": [
    "myList"
   ]
  },
  {
   "cell_type": "code",
   "execution_count": null,
   "id": "55f4ee9a",
   "metadata": {},
   "outputs": [],
   "source": [
    "# myList.append('Data Science')"
   ]
  },
  {
   "cell_type": "code",
   "execution_count": null,
   "id": "206ae9e9",
   "metadata": {},
   "outputs": [],
   "source": [
    "# myList"
   ]
  },
  {
   "cell_type": "code",
   "execution_count": null,
   "id": "47aeafd7",
   "metadata": {},
   "outputs": [],
   "source": [
    "myList[0]=\"Python\"\n",
    "myList"
   ]
  },
  {
   "cell_type": "code",
   "execution_count": null,
   "id": "6814257a",
   "metadata": {},
   "outputs": [],
   "source": [
    "countries[-1] = \"Burma\""
   ]
  },
  {
   "cell_type": "code",
   "execution_count": null,
   "id": "d20077b2",
   "metadata": {},
   "outputs": [],
   "source": [
    "countries"
   ]
  },
  {
   "cell_type": "code",
   "execution_count": null,
   "id": "1e75c7aa",
   "metadata": {},
   "outputs": [],
   "source": [
    "add = ['Unites States','United kingdom']"
   ]
  },
  {
   "cell_type": "code",
   "execution_count": null,
   "id": "97f82e29",
   "metadata": {},
   "outputs": [],
   "source": [
    "countries[2:4] = add"
   ]
  },
  {
   "cell_type": "code",
   "execution_count": null,
   "id": "c6790fc9",
   "metadata": {},
   "outputs": [],
   "source": [
    "countries"
   ]
  },
  {
   "cell_type": "code",
   "execution_count": null,
   "id": "312f9bef",
   "metadata": {},
   "outputs": [],
   "source": [
    "countries.pop()"
   ]
  },
  {
   "cell_type": "code",
   "execution_count": null,
   "id": "b96f36ff",
   "metadata": {},
   "outputs": [],
   "source": [
    "countries"
   ]
  },
  {
   "cell_type": "code",
   "execution_count": null,
   "id": "adbb57db",
   "metadata": {},
   "outputs": [],
   "source": [
    "countries.pop()"
   ]
  },
  {
   "cell_type": "code",
   "execution_count": null,
   "id": "44de0584",
   "metadata": {},
   "outputs": [],
   "source": [
    "countries"
   ]
  },
  {
   "cell_type": "code",
   "execution_count": null,
   "id": "e5f6b794",
   "metadata": {},
   "outputs": [],
   "source": [
    "Task:\n",
    "    ASEAN\n",
    "    SAARC\n",
    "    OPEC"
   ]
  },
  {
   "cell_type": "code",
   "execution_count": null,
   "id": "a52d7d37",
   "metadata": {},
   "outputs": [],
   "source": [
    "list([\"nisam\",1232])"
   ]
  },
  {
   "cell_type": "code",
   "execution_count": null,
   "id": "61cd9648",
   "metadata": {},
   "outputs": [],
   "source": [
    "name=\"Nisam\"\n",
    "list(name)"
   ]
  },
  {
   "cell_type": "markdown",
   "id": "ceb1b4eb",
   "metadata": {},
   "source": [
    "## Arithmetic Operators"
   ]
  },
  {
   "cell_type": "markdown",
   "id": "8bae0546",
   "metadata": {},
   "source": [
    "34234+3434"
   ]
  },
  {
   "cell_type": "code",
   "execution_count": null,
   "id": "2a0a347b",
   "metadata": {},
   "outputs": [],
   "source": [
    "a=34234+3434"
   ]
  },
  {
   "cell_type": "code",
   "execution_count": null,
   "id": "1eb18be3",
   "metadata": {},
   "outputs": [],
   "source": [
    "a*10"
   ]
  },
  {
   "cell_type": "code",
   "execution_count": null,
   "id": "4eec5f70",
   "metadata": {},
   "outputs": [],
   "source": [
    "3434-435435"
   ]
  },
  {
   "cell_type": "code",
   "execution_count": null,
   "id": "96cfe35c",
   "metadata": {},
   "outputs": [],
   "source": [
    "435*3453"
   ]
  },
  {
   "cell_type": "code",
   "execution_count": null,
   "id": "ab89e6a6",
   "metadata": {},
   "outputs": [],
   "source": [
    "# asterisk "
   ]
  },
  {
   "cell_type": "code",
   "execution_count": null,
   "id": "875f15b1",
   "metadata": {},
   "outputs": [],
   "source": [
    "1000/1000"
   ]
  },
  {
   "cell_type": "code",
   "execution_count": null,
   "id": "761f7fc8",
   "metadata": {},
   "outputs": [],
   "source": [
    "10%3#modulus"
   ]
  },
  {
   "cell_type": "code",
   "execution_count": null,
   "id": "4b72e1d9",
   "metadata": {},
   "outputs": [],
   "source": [
    "90%8"
   ]
  },
  {
   "cell_type": "code",
   "execution_count": null,
   "id": "3750ea23",
   "metadata": {},
   "outputs": [],
   "source": [
    "1//3"
   ]
  },
  {
   "cell_type": "code",
   "execution_count": null,
   "id": "986b4139",
   "metadata": {},
   "outputs": [],
   "source": [
    "32**3"
   ]
  },
  {
   "cell_type": "code",
   "execution_count": null,
   "id": "c7c8acdf",
   "metadata": {},
   "outputs": [],
   "source": [
    "5**3"
   ]
  },
  {
   "cell_type": "code",
   "execution_count": null,
   "id": "4bfd1571",
   "metadata": {},
   "outputs": [],
   "source": [
    "5**2"
   ]
  },
  {
   "cell_type": "code",
   "execution_count": null,
   "id": "a9f3ea0a",
   "metadata": {},
   "outputs": [],
   "source": [
    "5**3"
   ]
  },
  {
   "cell_type": "code",
   "execution_count": null,
   "id": "fe1f076a",
   "metadata": {},
   "outputs": [],
   "source": [
    "5**4"
   ]
  },
  {
   "cell_type": "code",
   "execution_count": null,
   "id": "e109ca42",
   "metadata": {},
   "outputs": [],
   "source": [
    "2*2"
   ]
  },
  {
   "cell_type": "code",
   "execution_count": null,
   "id": "99b48957",
   "metadata": {},
   "outputs": [],
   "source": [
    "4*3"
   ]
  },
  {
   "cell_type": "markdown",
   "id": "6883d538",
   "metadata": {},
   "source": [
    "## Assignment operators"
   ]
  },
  {
   "cell_type": "code",
   "execution_count": null,
   "id": "00e3d4e9",
   "metadata": {},
   "outputs": [],
   "source": [
    "a=10\n",
    "b='nisam'\n",
    "d=['nisam','ajay','alex']"
   ]
  },
  {
   "cell_type": "code",
   "execution_count": null,
   "id": "688fc668",
   "metadata": {},
   "outputs": [],
   "source": [
    "a*=a"
   ]
  },
  {
   "cell_type": "code",
   "execution_count": null,
   "id": "b8679610",
   "metadata": {},
   "outputs": [],
   "source": [
    "a"
   ]
  },
  {
   "cell_type": "code",
   "execution_count": null,
   "id": "f0e0d83a",
   "metadata": {},
   "outputs": [],
   "source": [
    "a=a*a"
   ]
  },
  {
   "cell_type": "code",
   "execution_count": null,
   "id": "ceb0a135",
   "metadata": {},
   "outputs": [],
   "source": [
    "a"
   ]
  },
  {
   "cell_type": "code",
   "execution_count": null,
   "id": "6beb732d",
   "metadata": {},
   "outputs": [],
   "source": []
  },
  {
   "cell_type": "code",
   "execution_count": null,
   "id": "d1cccdab",
   "metadata": {},
   "outputs": [],
   "source": []
  },
  {
   "cell_type": "code",
   "execution_count": null,
   "id": "9d8d6ec8",
   "metadata": {},
   "outputs": [],
   "source": []
  },
  {
   "cell_type": "code",
   "execution_count": null,
   "id": "f4630edf",
   "metadata": {},
   "outputs": [],
   "source": []
  },
  {
   "cell_type": "code",
   "execution_count": null,
   "id": "1f5a1f15",
   "metadata": {},
   "outputs": [],
   "source": []
  },
  {
   "cell_type": "code",
   "execution_count": null,
   "id": "c614801c",
   "metadata": {},
   "outputs": [],
   "source": [
    "c=5"
   ]
  },
  {
   "cell_type": "code",
   "execution_count": null,
   "id": "ba95df30",
   "metadata": {},
   "outputs": [],
   "source": [
    "c=c*c"
   ]
  },
  {
   "cell_type": "code",
   "execution_count": null,
   "id": "9d471044",
   "metadata": {},
   "outputs": [],
   "source": [
    "c"
   ]
  },
  {
   "cell_type": "code",
   "execution_count": null,
   "id": "219e7587",
   "metadata": {},
   "outputs": [],
   "source": [
    "d"
   ]
  },
  {
   "cell_type": "code",
   "execution_count": null,
   "id": "25aaf357",
   "metadata": {},
   "outputs": [],
   "source": [
    "c=c*c"
   ]
  },
  {
   "cell_type": "code",
   "execution_count": null,
   "id": "8fbbe238",
   "metadata": {},
   "outputs": [],
   "source": [
    "c"
   ]
  },
  {
   "cell_type": "code",
   "execution_count": null,
   "id": "5e34fbe2",
   "metadata": {},
   "outputs": [],
   "source": [
    "d = 3"
   ]
  },
  {
   "cell_type": "code",
   "execution_count": null,
   "id": "359fefea",
   "metadata": {},
   "outputs": [],
   "source": [
    "d=d*d"
   ]
  },
  {
   "cell_type": "code",
   "execution_count": null,
   "id": "9213809b",
   "metadata": {},
   "outputs": [],
   "source": [
    "d"
   ]
  },
  {
   "cell_type": "code",
   "execution_count": null,
   "id": "1985a933",
   "metadata": {},
   "outputs": [],
   "source": [
    "e=10"
   ]
  },
  {
   "cell_type": "code",
   "execution_count": null,
   "id": "c33cd4c0",
   "metadata": {},
   "outputs": [],
   "source": [
    "e=e+10"
   ]
  },
  {
   "cell_type": "code",
   "execution_count": null,
   "id": "21713ea7",
   "metadata": {},
   "outputs": [],
   "source": [
    "e"
   ]
  },
  {
   "cell_type": "code",
   "execution_count": null,
   "id": "dea04251",
   "metadata": {},
   "outputs": [],
   "source": [
    "f=100"
   ]
  },
  {
   "cell_type": "code",
   "execution_count": null,
   "id": "c0d36be5",
   "metadata": {},
   "outputs": [],
   "source": [
    "f=f-10"
   ]
  },
  {
   "cell_type": "code",
   "execution_count": null,
   "id": "aaf32686",
   "metadata": {},
   "outputs": [],
   "source": [
    "f"
   ]
  },
  {
   "cell_type": "code",
   "execution_count": null,
   "id": "635b15a4",
   "metadata": {},
   "outputs": [],
   "source": [
    "t=5"
   ]
  },
  {
   "cell_type": "code",
   "execution_count": null,
   "id": "579e7556",
   "metadata": {},
   "outputs": [],
   "source": [
    "t=t*t"
   ]
  },
  {
   "cell_type": "code",
   "execution_count": null,
   "id": "2c518f07",
   "metadata": {},
   "outputs": [],
   "source": [
    "t*=t"
   ]
  },
  {
   "cell_type": "code",
   "execution_count": null,
   "id": "78daaee0",
   "metadata": {},
   "outputs": [],
   "source": [
    "t"
   ]
  },
  {
   "cell_type": "code",
   "execution_count": null,
   "id": "7e9c4c93",
   "metadata": {},
   "outputs": [],
   "source": [
    "t-=t"
   ]
  },
  {
   "cell_type": "code",
   "execution_count": null,
   "id": "9e1018c6",
   "metadata": {},
   "outputs": [],
   "source": [
    "t"
   ]
  },
  {
   "cell_type": "markdown",
   "id": "4cedc720",
   "metadata": {},
   "source": [
    "### Comparison Operators"
   ]
  },
  {
   "cell_type": "markdown",
   "id": "382e71cb",
   "metadata": {},
   "source": [
    "## =="
   ]
  },
  {
   "cell_type": "code",
   "execution_count": null,
   "id": "4a2b5166",
   "metadata": {},
   "outputs": [],
   "source": [
    "a=10"
   ]
  },
  {
   "cell_type": "code",
   "execution_count": null,
   "id": "c99082f8",
   "metadata": {},
   "outputs": [],
   "source": [
    "b=20"
   ]
  },
  {
   "cell_type": "code",
   "execution_count": null,
   "id": "37de8d02",
   "metadata": {},
   "outputs": [],
   "source": [
    "a==b"
   ]
  },
  {
   "cell_type": "code",
   "execution_count": null,
   "id": "447654e2",
   "metadata": {},
   "outputs": [],
   "source": [
    "name='nisam'\n",
    "name2='nisam'"
   ]
  },
  {
   "cell_type": "code",
   "execution_count": null,
   "id": "e189f72d",
   "metadata": {},
   "outputs": [],
   "source": [
    "name==name2"
   ]
  },
  {
   "cell_type": "code",
   "execution_count": null,
   "id": "1e68d5de",
   "metadata": {},
   "outputs": [],
   "source": [
    "list1=['apple','jackfruit']"
   ]
  },
  {
   "cell_type": "code",
   "execution_count": null,
   "id": "3a1df08d",
   "metadata": {},
   "outputs": [],
   "source": [
    "list2=['apple','jackfruit','out']"
   ]
  },
  {
   "cell_type": "code",
   "execution_count": null,
   "id": "670dd932",
   "metadata": {},
   "outputs": [],
   "source": [
    "list1==list2"
   ]
  },
  {
   "cell_type": "raw",
   "id": "d8a40eeb",
   "metadata": {},
   "source": [
    ">\n",
    "<"
   ]
  },
  {
   "cell_type": "code",
   "execution_count": null,
   "id": "005dc7b1",
   "metadata": {},
   "outputs": [],
   "source": [
    "a = 20\n",
    "b = 30"
   ]
  },
  {
   "cell_type": "code",
   "execution_count": null,
   "id": "aed53d23",
   "metadata": {},
   "outputs": [],
   "source": [
    "b > a"
   ]
  },
  {
   "cell_type": "code",
   "execution_count": null,
   "id": "64e96d26",
   "metadata": {},
   "outputs": [],
   "source": [
    "b < a"
   ]
  },
  {
   "cell_type": "code",
   "execution_count": null,
   "id": "aabccb51",
   "metadata": {},
   "outputs": [],
   "source": [
    "c='nisam'\n",
    "d='output'"
   ]
  },
  {
   "cell_type": "code",
   "execution_count": null,
   "id": "728bd341",
   "metadata": {},
   "outputs": [],
   "source": [
    "c>d"
   ]
  },
  {
   "cell_type": "code",
   "execution_count": null,
   "id": "c1f8b528",
   "metadata": {},
   "outputs": [],
   "source": [
    "a = True"
   ]
  },
  {
   "cell_type": "code",
   "execution_count": null,
   "id": "6ae2d46f",
   "metadata": {},
   "outputs": [],
   "source": [
    "b= False"
   ]
  },
  {
   "cell_type": "code",
   "execution_count": null,
   "id": "69cb07ea",
   "metadata": {},
   "outputs": [],
   "source": [
    "a>b"
   ]
  },
  {
   "cell_type": "code",
   "execution_count": null,
   "id": "531e4269",
   "metadata": {},
   "outputs": [],
   "source": [
    "# name = \"Clexjncy\"\n",
    "# name2 = \"aeffrey\""
   ]
  },
  {
   "cell_type": "code",
   "execution_count": null,
   "id": "57d9b52f",
   "metadata": {},
   "outputs": [],
   "source": [
    "# len(name)"
   ]
  },
  {
   "cell_type": "code",
   "execution_count": null,
   "id": "5f26701c",
   "metadata": {},
   "outputs": [],
   "source": [
    "# len(name2)"
   ]
  },
  {
   "cell_type": "code",
   "execution_count": null,
   "id": "0feb6768",
   "metadata": {},
   "outputs": [],
   "source": [
    "# name > name2"
   ]
  },
  {
   "cell_type": "code",
   "execution_count": null,
   "id": "4b3b55e4",
   "metadata": {},
   "outputs": [],
   "source": [
    "a = 10\n",
    "b= 20"
   ]
  },
  {
   "cell_type": "code",
   "execution_count": null,
   "id": "c887472b",
   "metadata": {},
   "outputs": [],
   "source": [
    "a >= b"
   ]
  },
  {
   "cell_type": "code",
   "execution_count": null,
   "id": "8d4ec163",
   "metadata": {},
   "outputs": [],
   "source": [
    "a <= b"
   ]
  },
  {
   "cell_type": "code",
   "execution_count": null,
   "id": "0cba18fb",
   "metadata": {},
   "outputs": [],
   "source": [
    "c = 30\n",
    "d = 30"
   ]
  },
  {
   "cell_type": "code",
   "execution_count": null,
   "id": "caf1fc3c",
   "metadata": {},
   "outputs": [],
   "source": [
    "c>=32"
   ]
  },
  {
   "cell_type": "code",
   "execution_count": null,
   "id": "59587186",
   "metadata": {},
   "outputs": [],
   "source": [
    "c != d ## not equal to "
   ]
  },
  {
   "cell_type": "markdown",
   "id": "7bfd74ac",
   "metadata": {},
   "source": [
    "## LOGICAL OPERATORS"
   ]
  },
  {
   "cell_type": "markdown",
   "id": "84a5e816",
   "metadata": {},
   "source": [
    "## and"
   ]
  },
  {
   "cell_type": "code",
   "execution_count": null,
   "id": "413ae048",
   "metadata": {},
   "outputs": [],
   "source": [
    "a=10\n",
    "b = 20"
   ]
  },
  {
   "cell_type": "code",
   "execution_count": null,
   "id": "478371e9",
   "metadata": {},
   "outputs": [],
   "source": [
    "a==10"
   ]
  },
  {
   "cell_type": "code",
   "execution_count": null,
   "id": "d722e95c",
   "metadata": {},
   "outputs": [],
   "source": [
    "b==20"
   ]
  },
  {
   "cell_type": "code",
   "execution_count": null,
   "id": "fc7dc3df",
   "metadata": {},
   "outputs": [],
   "source": [
    "a==10 and b==20"
   ]
  },
  {
   "cell_type": "code",
   "execution_count": null,
   "id": "e4a4c493",
   "metadata": {},
   "outputs": [],
   "source": [
    "b==40"
   ]
  },
  {
   "cell_type": "code",
   "execution_count": null,
   "id": "a237e3ff",
   "metadata": {},
   "outputs": [],
   "source": [
    "a==10 and b==40"
   ]
  },
  {
   "cell_type": "code",
   "execution_count": null,
   "id": "cb4571a1",
   "metadata": {},
   "outputs": [],
   "source": [
    "player1 = \"Sanju\""
   ]
  },
  {
   "cell_type": "code",
   "execution_count": null,
   "id": "162ade8d",
   "metadata": {},
   "outputs": [],
   "source": [
    "player2 = \"Virat\""
   ]
  },
  {
   "cell_type": "code",
   "execution_count": null,
   "id": "f32975d0",
   "metadata": {},
   "outputs": [],
   "source": [
    "player1 == \"Sanju\""
   ]
  },
  {
   "cell_type": "code",
   "execution_count": null,
   "id": "3c56035d",
   "metadata": {},
   "outputs": [],
   "source": [
    "player2 == \"samson\""
   ]
  },
  {
   "cell_type": "code",
   "execution_count": null,
   "id": "e2c59499",
   "metadata": {},
   "outputs": [],
   "source": [
    "player1 == \"Sanju\" and player2 == \"samson\""
   ]
  },
  {
   "cell_type": "code",
   "execution_count": null,
   "id": "b94a45cd",
   "metadata": {},
   "outputs": [],
   "source": [
    "b=10\n",
    "c=30"
   ]
  },
  {
   "cell_type": "code",
   "execution_count": null,
   "id": "f5f5e386",
   "metadata": {},
   "outputs": [],
   "source": [
    "b==50 or c==30"
   ]
  },
  {
   "cell_type": "raw",
   "id": "85ed8202",
   "metadata": {},
   "source": [
    "and\n",
    "\n",
    "- True and True =True\n",
    "- True and False = False\n",
    "- False and True =  False\n",
    "- False and False = False\n",
    "\n",
    "\n",
    "or\n",
    "\n",
    "- True and True = True\n",
    "- True and False =True\n",
    "- False and True  = True\n",
    "- False and False = False"
   ]
  },
  {
   "cell_type": "code",
   "execution_count": null,
   "id": "24564925",
   "metadata": {},
   "outputs": [],
   "source": []
  },
  {
   "cell_type": "code",
   "execution_count": null,
   "id": "9c73f32a",
   "metadata": {},
   "outputs": [],
   "source": [
    "goat1=\"Messi\"\n",
    "goat2 = 'CR7'"
   ]
  },
  {
   "cell_type": "code",
   "execution_count": null,
   "id": "02a6f08e",
   "metadata": {},
   "outputs": [],
   "source": [
    "goat1==\"Neymer\" or goat2==\"CR7\""
   ]
  },
  {
   "cell_type": "markdown",
   "id": "bbfa0de8",
   "metadata": {},
   "source": [
    "## not"
   ]
  },
  {
   "cell_type": "code",
   "execution_count": null,
   "id": "5371c95e",
   "metadata": {},
   "outputs": [],
   "source": [
    "x = 5\n",
    "\n",
    "not(x>3 and x < 10)"
   ]
  },
  {
   "cell_type": "code",
   "execution_count": null,
   "id": "337497e4",
   "metadata": {},
   "outputs": [],
   "source": [
    "not(x>6 or x < 10)"
   ]
  },
  {
   "cell_type": "code",
   "execution_count": null,
   "id": "8ff3d044",
   "metadata": {},
   "outputs": [],
   "source": [
    "not(x>6 or x < 3)"
   ]
  },
  {
   "cell_type": "markdown",
   "id": "124038a5",
   "metadata": {},
   "source": [
    "## identity Operators"
   ]
  },
  {
   "cell_type": "markdown",
   "id": "3cd7a25b",
   "metadata": {},
   "source": [
    "## is"
   ]
  },
  {
   "cell_type": "code",
   "execution_count": null,
   "id": "e63f2a58",
   "metadata": {},
   "outputs": [],
   "source": [
    "a = 10"
   ]
  },
  {
   "cell_type": "code",
   "execution_count": null,
   "id": "01fcd9be",
   "metadata": {},
   "outputs": [],
   "source": [
    "b=a"
   ]
  },
  {
   "cell_type": "code",
   "execution_count": null,
   "id": "095bb25b",
   "metadata": {},
   "outputs": [],
   "source": [
    "b"
   ]
  },
  {
   "cell_type": "code",
   "execution_count": null,
   "id": "f44b14bf",
   "metadata": {},
   "outputs": [],
   "source": [
    "a is b"
   ]
  },
  {
   "cell_type": "code",
   "execution_count": 19,
   "id": "f9ac6a11",
   "metadata": {},
   "outputs": [],
   "source": [
    "a = ['one','two','three']\n",
    "b = ['one','two','three']"
   ]
  },
  {
   "cell_type": "code",
   "execution_count": 20,
   "id": "84232890",
   "metadata": {},
   "outputs": [
    {
     "data": {
      "text/plain": [
       "True"
      ]
     },
     "execution_count": 20,
     "metadata": {},
     "output_type": "execute_result"
    }
   ],
   "source": [
    "a==b"
   ]
  },
  {
   "cell_type": "code",
   "execution_count": 23,
   "id": "fce71d19",
   "metadata": {},
   "outputs": [
    {
     "data": {
      "text/plain": [
       "True"
      ]
     },
     "execution_count": 23,
     "metadata": {},
     "output_type": "execute_result"
    }
   ],
   "source": [
    "a is b"
   ]
  },
  {
   "cell_type": "code",
   "execution_count": 22,
   "id": "0ed89dcf",
   "metadata": {},
   "outputs": [],
   "source": [
    "a=b"
   ]
  },
  {
   "cell_type": "code",
   "execution_count": null,
   "id": "337656b7",
   "metadata": {},
   "outputs": [],
   "source": [
    "a=10\n",
    "c = 10"
   ]
  },
  {
   "cell_type": "code",
   "execution_count": null,
   "id": "3d13532f",
   "metadata": {},
   "outputs": [],
   "source": []
  },
  {
   "cell_type": "code",
   "execution_count": null,
   "id": "d741017c",
   "metadata": {},
   "outputs": [],
   "source": []
  },
  {
   "cell_type": "code",
   "execution_count": 35,
   "id": "83b1afd1",
   "metadata": {},
   "outputs": [],
   "source": [
    "name=name1=name3=[1,5,7]"
   ]
  },
  {
   "cell_type": "code",
   "execution_count": 29,
   "id": "7881e937",
   "metadata": {},
   "outputs": [
    {
     "data": {
      "text/plain": [
       "[1, 5, 7]"
      ]
     },
     "execution_count": 29,
     "metadata": {},
     "output_type": "execute_result"
    }
   ],
   "source": [
    "name"
   ]
  },
  {
   "cell_type": "code",
   "execution_count": 30,
   "id": "db438b44",
   "metadata": {},
   "outputs": [
    {
     "data": {
      "text/plain": [
       "[1, 5, 7]"
      ]
     },
     "execution_count": 30,
     "metadata": {},
     "output_type": "execute_result"
    }
   ],
   "source": [
    "name1"
   ]
  },
  {
   "cell_type": "code",
   "execution_count": 31,
   "id": "608b3278",
   "metadata": {},
   "outputs": [],
   "source": [
    "test=[1,5,7]"
   ]
  },
  {
   "cell_type": "code",
   "execution_count": 32,
   "id": "14518631",
   "metadata": {},
   "outputs": [
    {
     "data": {
      "text/plain": [
       "[1, 5, 7]"
      ]
     },
     "execution_count": 32,
     "metadata": {},
     "output_type": "execute_result"
    }
   ],
   "source": [
    "test"
   ]
  },
  {
   "cell_type": "code",
   "execution_count": 33,
   "id": "5cc40b0d",
   "metadata": {},
   "outputs": [
    {
     "data": {
      "text/plain": [
       "True"
      ]
     },
     "execution_count": 33,
     "metadata": {},
     "output_type": "execute_result"
    }
   ],
   "source": [
    "name is name1"
   ]
  },
  {
   "cell_type": "code",
   "execution_count": 34,
   "id": "dcf3fc28",
   "metadata": {},
   "outputs": [
    {
     "data": {
      "text/plain": [
       "False"
      ]
     },
     "execution_count": 34,
     "metadata": {},
     "output_type": "execute_result"
    }
   ],
   "source": [
    "name is test"
   ]
  },
  {
   "cell_type": "code",
   "execution_count": 36,
   "id": "05035680",
   "metadata": {},
   "outputs": [
    {
     "data": {
      "text/plain": [
       "True"
      ]
     },
     "execution_count": 36,
     "metadata": {},
     "output_type": "execute_result"
    }
   ],
   "source": [
    "name1 is name3"
   ]
  },
  {
   "cell_type": "code",
   "execution_count": 40,
   "id": "013b8c36",
   "metadata": {},
   "outputs": [],
   "source": [
    "player1 = player=[\"sam\",'alex','jannet']"
   ]
  },
  {
   "cell_type": "code",
   "execution_count": 41,
   "id": "10f045b2",
   "metadata": {},
   "outputs": [
    {
     "data": {
      "text/plain": [
       "2557859031232"
      ]
     },
     "execution_count": 41,
     "metadata": {},
     "output_type": "execute_result"
    }
   ],
   "source": [
    "id(player1)"
   ]
  },
  {
   "cell_type": "code",
   "execution_count": 42,
   "id": "54c7ac71",
   "metadata": {},
   "outputs": [
    {
     "data": {
      "text/plain": [
       "2557859031232"
      ]
     },
     "execution_count": 42,
     "metadata": {},
     "output_type": "execute_result"
    }
   ],
   "source": [
    "id(player)"
   ]
  },
  {
   "cell_type": "code",
   "execution_count": 43,
   "id": "6756096d",
   "metadata": {},
   "outputs": [],
   "source": [
    "player3=[\"sam\",'alex','jannet']"
   ]
  },
  {
   "cell_type": "code",
   "execution_count": 44,
   "id": "a2588f1d",
   "metadata": {},
   "outputs": [
    {
     "data": {
      "text/plain": [
       "2557888308096"
      ]
     },
     "execution_count": 44,
     "metadata": {},
     "output_type": "execute_result"
    }
   ],
   "source": [
    "id(player3)"
   ]
  },
  {
   "cell_type": "code",
   "execution_count": 45,
   "id": "b996c2d7",
   "metadata": {},
   "outputs": [],
   "source": [
    "player1 = player=[\"sam\",'alex','jannet']\n",
    "player3=[\"sam\",'alex','jannet']"
   ]
  },
  {
   "cell_type": "code",
   "execution_count": 46,
   "id": "d197713e",
   "metadata": {},
   "outputs": [
    {
     "data": {
      "text/plain": [
       "False"
      ]
     },
     "execution_count": 46,
     "metadata": {},
     "output_type": "execute_result"
    }
   ],
   "source": [
    "player1 is player3"
   ]
  },
  {
   "cell_type": "code",
   "execution_count": 47,
   "id": "7debafe0",
   "metadata": {},
   "outputs": [],
   "source": [
    "a = 10\n",
    "b = 10"
   ]
  },
  {
   "cell_type": "code",
   "execution_count": 48,
   "id": "dc0e3986",
   "metadata": {},
   "outputs": [
    {
     "data": {
      "text/plain": [
       "2557775118864"
      ]
     },
     "execution_count": 48,
     "metadata": {},
     "output_type": "execute_result"
    }
   ],
   "source": [
    "id(a)"
   ]
  },
  {
   "cell_type": "code",
   "execution_count": 49,
   "id": "4d2545f1",
   "metadata": {},
   "outputs": [
    {
     "data": {
      "text/plain": [
       "2557775118864"
      ]
     },
     "execution_count": 49,
     "metadata": {},
     "output_type": "execute_result"
    }
   ],
   "source": [
    "id(b)"
   ]
  },
  {
   "cell_type": "code",
   "execution_count": 1,
   "id": "c6a0345d",
   "metadata": {},
   "outputs": [
    {
     "name": "stdout",
     "output_type": "stream",
     "text": [
      "Hello World\n"
     ]
    }
   ],
   "source": [
    "print(\"Hello World\")"
   ]
  },
  {
   "cell_type": "raw",
   "id": "8c59c347",
   "metadata": {},
   "source": [
    ">\n",
    "<\n",
    ">=\n",
    "<=\n",
    "!=\n",
    "=="
   ]
  },
  {
   "cell_type": "code",
   "execution_count": 5,
   "id": "72af47d1",
   "metadata": {},
   "outputs": [
    {
     "name": "stdout",
     "output_type": "stream",
     "text": [
      "You can come in\n"
     ]
    }
   ],
   "source": [
    "age = 20\n",
    "# boolean condition\n",
    "if age>=13: \n",
    "    print('You can come in')\n",
    "else:\n",
    "    print('You cannot enter')"
   ]
  },
  {
   "cell_type": "code",
   "execution_count": 11,
   "id": "b15fde4e",
   "metadata": {},
   "outputs": [
    {
     "name": "stdout",
     "output_type": "stream",
     "text": [
      "Number is 9\n"
     ]
    }
   ],
   "source": [
    "x = 9\n",
    "if x >10:\n",
    "    print('Number is less than 10')\n",
    "elif x==9:\n",
    "    print('Number is 9')\n",
    "elif  x==10:\n",
    "    print('Number is 10')\n",
    "else:\n",
    "    print('There is no such value')"
   ]
  },
  {
   "cell_type": "code",
   "execution_count": 12,
   "id": "25d1c571",
   "metadata": {},
   "outputs": [
    {
     "name": "stdout",
     "output_type": "stream",
     "text": [
      "Yup we got it\n"
     ]
    }
   ],
   "source": [
    "n = 25\n",
    "if (n==25) or (n<25):\n",
    "    print('Yup we got it')\n",
    "elif n==10:\n",
    "    print('This is 10')\n",
    "else:\n",
    "    print('This is not a number')"
   ]
  },
  {
   "cell_type": "code",
   "execution_count": 14,
   "id": "0dc2feb1",
   "metadata": {},
   "outputs": [
    {
     "name": "stdout",
     "output_type": "stream",
     "text": [
      "Yup we got it\n"
     ]
    }
   ],
   "source": [
    "n = 25\n",
    "if (n==25) and (n<35):\n",
    "    print('Yup we got it')\n",
    "elif n==10:\n",
    "    print('This is 10')\n",
    "else:\n",
    "    print('This is not a number')"
   ]
  },
  {
   "cell_type": "code",
   "execution_count": null,
   "id": "c84295f0",
   "metadata": {},
   "outputs": [],
   "source": [
    "age = 20\n",
    "# boolean condition\n",
    "if age>=13: \n",
    "    print('You can come in')\n",
    "else:\n",
    "    print('You cannot enter')"
   ]
  },
  {
   "cell_type": "raw",
   "id": "b0b89a68",
   "metadata": {},
   "source": [
    "int\n",
    "str\n",
    "list\n",
    "dict\n",
    "set\n",
    "float"
   ]
  },
  {
   "cell_type": "code",
   "execution_count": 19,
   "id": "e34d9924",
   "metadata": {},
   "outputs": [
    {
     "name": "stdout",
     "output_type": "stream",
     "text": [
      "How old are you? 20\n",
      "You can enter\n"
     ]
    }
   ],
   "source": [
    "age = int(input(\"How old are you? \"))\n",
    "if age >=13:\n",
    "    print('You can enter')\n",
    "else:\n",
    "    print('You cannot enter')"
   ]
  },
  {
   "cell_type": "code",
   "execution_count": 22,
   "id": "8521cf0e",
   "metadata": {},
   "outputs": [
    {
     "name": "stdout",
     "output_type": "stream",
     "text": [
      "Are you Male or Female or Others? Others\n",
      "You must pay 1/2 of total ticket bill\n"
     ]
    }
   ],
   "source": [
    "gender=input(\"Are you Male or Female or Others? \")\n",
    "if gender == \"Female\":\n",
    "    print('You can travel for free')\n",
    "elif gender==\"Others\":\n",
    "    print('You must pay 1/2 of total ticket bill')\n",
    "else:\n",
    "    print('You must travel with ticket')"
   ]
  },
  {
   "cell_type": "raw",
   "id": "2a9bd74d",
   "metadata": {},
   "source": [
    ">0 :positive\n",
    "<0 : negative\n",
    "0 : zero"
   ]
  },
  {
   "cell_type": "code",
   "execution_count": 25,
   "id": "6a4797e9",
   "metadata": {},
   "outputs": [],
   "source": [
    "# 10%3"
   ]
  },
  {
   "cell_type": "code",
   "execution_count": 30,
   "id": "2790e845",
   "metadata": {},
   "outputs": [
    {
     "name": "stdout",
     "output_type": "stream",
     "text": [
      "How old are you? 20\n",
      "You can enter 20\n"
     ]
    }
   ],
   "source": [
    "age = int(input(\"How old are you? \"))\n",
    "if age >=13:\n",
    "    print('You can enter',age)\n",
    "else:\n",
    "    print('You cannot enter',age)"
   ]
  },
  {
   "cell_type": "code",
   "execution_count": null,
   "id": "ae37ba22",
   "metadata": {},
   "outputs": [],
   "source": []
  },
  {
   "cell_type": "markdown",
   "id": "f45c7a37",
   "metadata": {},
   "source": [
    "# nested if "
   ]
  },
  {
   "cell_type": "code",
   "execution_count": 36,
   "id": "93313ec2",
   "metadata": {},
   "outputs": [
    {
     "name": "stdout",
     "output_type": "stream",
     "text": [
      "How old are you? 100\n",
      "You cannot enter 100\n"
     ]
    }
   ],
   "source": [
    "age = int(input('How old are you? '))\n",
    "if age >=13:#true\n",
    "    if age <=60:\n",
    "        print('You can enter',age)\n",
    "    else:\n",
    "        print('You cannot enter',age)\n",
    "else:\n",
    "    print('You cannot enter inside outer block')"
   ]
  },
  {
   "cell_type": "code",
   "execution_count": 37,
   "id": "afedd27d",
   "metadata": {},
   "outputs": [],
   "source": [
    "# input()"
   ]
  },
  {
   "cell_type": "code",
   "execution_count": 38,
   "id": "85495b3e",
   "metadata": {},
   "outputs": [],
   "source": [
    "# input()"
   ]
  },
  {
   "cell_type": "code",
   "execution_count": 43,
   "id": "2ec62fd8",
   "metadata": {},
   "outputs": [
    {
     "name": "stdout",
     "output_type": "stream",
     "text": [
      "This is the default statement from outer block\n"
     ]
    }
   ],
   "source": [
    "i = 10\n",
    "name='test'\n",
    "if i==10:\n",
    "    if type(name)==str:\n",
    "        print('This is your name')\n",
    "    else:\n",
    "        print('You are entered wrong input')\n",
    "else:\n",
    "    print('This is the default statement from outer block')\n",
    "    "
   ]
  },
  {
   "cell_type": "raw",
   "id": "ea49a1ae",
   "metadata": {},
   "source": [
    "Q-Write a programme to calcuate electricity bill (accept unit from user) according to the given criteria>\n",
    "     Unit             Price\n",
    "    First 100 units   Free of cost(0)\n",
    "    Next 100 units    rs 5 per unit\n",
    "    after 200 units   rs 10 per unit\n",
    "    \n",
    "    "
   ]
  },
  {
   "cell_type": "code",
   "execution_count": 51,
   "id": "78809eb8",
   "metadata": {},
   "outputs": [
    {
     "name": "stdout",
     "output_type": "stream",
     "text": [
      "Enter number of units? 250\n",
      "Total amount to pay 1000\n"
     ]
    }
   ],
   "source": [
    "amt = 0\n",
    "nu = int(input('Enter number of units? '))\n",
    "if nu <=100:\n",
    "    amt = 0\n",
    "elif nu > 100  and nu<=200:\n",
    "    amt = (nu-100)*5\n",
    "elif nu >200:\n",
    "    amt =500+ (nu-200) * 10\n",
    "else:\n",
    "    print('Enter a valid unit')\n",
    "print('Total amount to pay',amt)\n",
    "    "
   ]
  },
  {
   "cell_type": "code",
   "execution_count": 50,
   "id": "e3bb4943",
   "metadata": {},
   "outputs": [
    {
     "name": "stdout",
     "output_type": "stream",
     "text": [
      "Enter your age? 10\n",
      "20\n"
     ]
    }
   ],
   "source": [
    "# age = 10\n",
    "age = int(input('Enter your age? '))\n",
    "if age <=100: \n",
    "    age = age+10\n",
    "print(age)"
   ]
  },
  {
   "cell_type": "markdown",
   "id": "1e5f9ff0",
   "metadata": {},
   "source": [
    "write a program to display last digit of a number?"
   ]
  },
  {
   "cell_type": "code",
   "execution_count": 54,
   "id": "def99014",
   "metadata": {},
   "outputs": [
    {
     "name": "stdout",
     "output_type": "stream",
     "text": [
      "Enter a number: 245\n",
      "last digit of your number 5\n"
     ]
    }
   ],
   "source": [
    "num = int(input('Enter a number: '))\n",
    "print(\"last digit of your number\", num%10)"
   ]
  },
  {
   "cell_type": "code",
   "execution_count": 56,
   "id": "b8d2be63",
   "metadata": {},
   "outputs": [],
   "source": [
    "# 50\n",
    "# 0\n",
    "# 0/3"
   ]
  },
  {
   "cell_type": "code",
   "execution_count": 59,
   "id": "02f9dfbe",
   "metadata": {},
   "outputs": [
    {
     "name": "stdout",
     "output_type": "stream",
     "text": [
      "Enter a number: 29\n",
      "This number can devide with 3\n"
     ]
    }
   ],
   "source": [
    "num = int(input('Enter a number: '))\n",
    "ld = num%10\n",
    "if ld%3 ==0:\n",
    "    print('This number can devide with 3')\n",
    "else:\n",
    "    print('not a divisible of 3')"
   ]
  },
  {
   "cell_type": "code",
   "execution_count": 60,
   "id": "81f5a907",
   "metadata": {},
   "outputs": [],
   "source": [
    "# Kerala govt has decided to give loans to students who older than 20 and who score 80 in final test"
   ]
  },
  {
   "cell_type": "code",
   "execution_count": 13,
   "id": "cd3e2bac",
   "metadata": {},
   "outputs": [
    {
     "name": "stdout",
     "output_type": "stream",
     "text": [
      "if you have ticket or not0\n",
      "Enter your age6\n",
      "Go and take ticket\n"
     ]
    }
   ],
   "source": [
    "ticket = int(input('if you have ticket or not: '))  #1==you have ticket 0==you haven't\n",
    "age=int(input('Enter your age '))\n",
    "if ticket==1:\n",
    "    print('Go and Watch the Movie')\n",
    "elif ticket !=1 and age <=3:\n",
    "    print('Go and Watch the Movie')\n",
    "else:\n",
    "    print('Go and take ticket')"
   ]
  },
  {
   "cell_type": "markdown",
   "id": "0641cfb9",
   "metadata": {},
   "source": [
    "## loops"
   ]
  },
  {
   "cell_type": "code",
   "execution_count": 16,
   "id": "ed5a2b2b",
   "metadata": {},
   "outputs": [
    {
     "name": "stdout",
     "output_type": "stream",
     "text": [
      "1\n",
      "2\n"
     ]
    }
   ],
   "source": [
    "print(1)\n",
    "print(2)"
   ]
  },
  {
   "cell_type": "markdown",
   "id": "7f056615",
   "metadata": {},
   "source": [
    "## for loop"
   ]
  },
  {
   "cell_type": "code",
   "execution_count": 8,
   "id": "64342973",
   "metadata": {},
   "outputs": [
    {
     "data": {
      "text/plain": [
       "False"
      ]
     },
     "execution_count": 8,
     "metadata": {},
     "output_type": "execute_result"
    }
   ],
   "source": [
    "text=\"nisam\"\n",
    "\"t\" in text\n"
   ]
  },
  {
   "cell_type": "code",
   "execution_count": 1,
   "id": "2b1e5e2f",
   "metadata": {},
   "outputs": [],
   "source": [
    "myList = [1,3,5,7,9,\"nisam\",'nihal','magnus','Ding','Vishy']"
   ]
  },
  {
   "cell_type": "code",
   "execution_count": 5,
   "id": "92ac36eb",
   "metadata": {},
   "outputs": [
    {
     "data": {
      "text/plain": [
       "[1, 3, 5, 7, 9, 'nisam', 'nihal', 'magnus', 'Ding', 'Vishy']"
      ]
     },
     "execution_count": 5,
     "metadata": {},
     "output_type": "execute_result"
    }
   ],
   "source": [
    "myList"
   ]
  },
  {
   "cell_type": "code",
   "execution_count": 16,
   "id": "f3446a54",
   "metadata": {},
   "outputs": [
    {
     "name": "stdout",
     "output_type": "stream",
     "text": [
      "1\n",
      "3\n",
      "5\n",
      "7\n",
      "nisam\n",
      "nihal\n",
      "magnus\n",
      "Ding\n",
      "Vishy\n"
     ]
    }
   ],
   "source": [
    "for i in myList:\n",
    "    if i==9:\n",
    "        continue\n",
    "    print(i)\n",
    "        "
   ]
  },
  {
   "cell_type": "code",
   "execution_count": 4,
   "id": "97aaa28e",
   "metadata": {},
   "outputs": [
    {
     "data": {
      "text/plain": [
       "[1, 3, 5, 7, 9, 'nisam', 'nihal']"
      ]
     },
     "execution_count": 4,
     "metadata": {},
     "output_type": "execute_result"
    }
   ],
   "source": [
    "myList[:7]"
   ]
  },
  {
   "cell_type": "code",
   "execution_count": 21,
   "id": "f342a462",
   "metadata": {},
   "outputs": [
    {
     "data": {
      "text/plain": [
       "[1, 3, 5, 7, 9, 'nisam', 'nihal', 'magnus', 'Ding', 'Vishy']"
      ]
     },
     "execution_count": 21,
     "metadata": {},
     "output_type": "execute_result"
    }
   ],
   "source": [
    "myList"
   ]
  },
  {
   "cell_type": "code",
   "execution_count": 6,
   "id": "696759ce",
   "metadata": {},
   "outputs": [
    {
     "data": {
      "text/plain": [
       "False"
      ]
     },
     "execution_count": 6,
     "metadata": {},
     "output_type": "execute_result"
    }
   ],
   "source": [
    "113123 in myList"
   ]
  },
  {
   "cell_type": "code",
   "execution_count": 25,
   "id": "0e9cf9e1",
   "metadata": {},
   "outputs": [
    {
     "name": "stdout",
     "output_type": "stream",
     "text": [
      "1\n",
      "3\n",
      "5\n",
      "7\n",
      "9\n",
      "nisam\n",
      "nihal\n",
      "magnus\n",
      "Ding\n",
      "Vishy\n"
     ]
    }
   ],
   "source": [
    "for x in myList:\n",
    "    print(x)"
   ]
  },
  {
   "cell_type": "code",
   "execution_count": 27,
   "id": "9bdd6c6f",
   "metadata": {},
   "outputs": [
    {
     "data": {
      "text/plain": [
       "[1, 3, 5, 7, 9, 'nisam', 'nihal', 'magnus', 'Ding', 'Vishy']"
      ]
     },
     "execution_count": 27,
     "metadata": {},
     "output_type": "execute_result"
    }
   ],
   "source": [
    "myList"
   ]
  },
  {
   "cell_type": "code",
   "execution_count": 17,
   "id": "f93aa387",
   "metadata": {},
   "outputs": [
    {
     "name": "stdout",
     "output_type": "stream",
     "text": [
      "p\n",
      "y\n",
      "t\n",
      "h\n",
      "o\n",
      "n\n",
      "j\n",
      "a\n",
      "n\n",
      "g\n",
      "o\n"
     ]
    }
   ],
   "source": [
    "text = \"pythondjango\"\n",
    "for txt in text:\n",
    "    if txt=='d':\n",
    "        continue\n",
    "    print(txt)"
   ]
  },
  {
   "cell_type": "code",
   "execution_count": 26,
   "id": "d8121430",
   "metadata": {},
   "outputs": [
    {
     "name": "stdout",
     "output_type": "stream",
     "text": [
      "1\n",
      "3\n",
      "5\n",
      "7\n",
      "9\n",
      "nisam\n",
      "nihal\n",
      "magnus\n",
      "Ding\n",
      "Vishy\n"
     ]
    }
   ],
   "source": [
    "for i in myList:\n",
    "    print(i)"
   ]
  },
  {
   "cell_type": "code",
   "execution_count": 30,
   "id": "b1dc0f32",
   "metadata": {},
   "outputs": [
    {
     "name": "stdout",
     "output_type": "stream",
     "text": [
      "apple\n",
      "banana\n",
      "cherry\n",
      "jackfruit\n"
     ]
    }
   ],
   "source": [
    "fruits = [\"apple\", \"banana\", \"cherry\",\"jackfruit\"]\n",
    "for x in fruits:\n",
    "    print(x)"
   ]
  },
  {
   "cell_type": "code",
   "execution_count": 31,
   "id": "eabd8cfa",
   "metadata": {},
   "outputs": [],
   "source": [
    "name =\"Viswanathan Anand\""
   ]
  },
  {
   "cell_type": "code",
   "execution_count": 37,
   "id": "e3a1feaa",
   "metadata": {},
   "outputs": [
    {
     "data": {
      "text/plain": [
       "'V'"
      ]
     },
     "execution_count": 37,
     "metadata": {},
     "output_type": "execute_result"
    }
   ],
   "source": [
    "name[:1]"
   ]
  },
  {
   "cell_type": "code",
   "execution_count": 38,
   "id": "5aeabe31",
   "metadata": {},
   "outputs": [],
   "source": [
    "ages=[34,45,65,67,34,23,45,67,67,34,56]"
   ]
  },
  {
   "cell_type": "code",
   "execution_count": 39,
   "id": "19366f41",
   "metadata": {},
   "outputs": [
    {
     "name": "stdout",
     "output_type": "stream",
     "text": [
      "34\n",
      "45\n",
      "65\n",
      "67\n",
      "34\n",
      "23\n",
      "45\n",
      "67\n",
      "67\n",
      "34\n",
      "56\n"
     ]
    }
   ],
   "source": [
    "for age in ages:\n",
    "    print(age)"
   ]
  },
  {
   "cell_type": "code",
   "execution_count": 32,
   "id": "b786162b",
   "metadata": {},
   "outputs": [
    {
     "name": "stdout",
     "output_type": "stream",
     "text": [
      "V\n",
      "i\n",
      "s\n",
      "w\n",
      "a\n",
      "n\n",
      "a\n",
      "t\n",
      "h\n",
      "a\n",
      "n\n",
      " \n",
      "A\n",
      "n\n",
      "a\n",
      "n\n",
      "d\n"
     ]
    }
   ],
   "source": [
    "for n in name:\n",
    "    print(n)"
   ]
  },
  {
   "cell_type": "code",
   "execution_count": 35,
   "id": "9c347103",
   "metadata": {},
   "outputs": [
    {
     "data": {
      "text/plain": [
       "[1, 3]"
      ]
     },
     "execution_count": 35,
     "metadata": {},
     "output_type": "execute_result"
    }
   ],
   "source": [
    "myList[:2]"
   ]
  },
  {
   "cell_type": "code",
   "execution_count": 40,
   "id": "0290c8bc",
   "metadata": {},
   "outputs": [
    {
     "data": {
      "text/plain": [
       "[34, 45, 65, 67, 34, 23, 45, 67, 67, 34, 56]"
      ]
     },
     "execution_count": 40,
     "metadata": {},
     "output_type": "execute_result"
    }
   ],
   "source": [
    "ages"
   ]
  },
  {
   "cell_type": "code",
   "execution_count": 42,
   "id": "5f842d6a",
   "metadata": {},
   "outputs": [
    {
     "name": "stdout",
     "output_type": "stream",
     "text": [
      "[68, 90, 130, 134, 68, 46, 90, 134, 134, 68, 112]\n"
     ]
    }
   ],
   "source": [
    "newAge = []\n",
    "for age in ages:\n",
    "    newAge.append(age*2)\n",
    "print(newAge)"
   ]
  },
  {
   "cell_type": "code",
   "execution_count": 43,
   "id": "35eca3a8",
   "metadata": {},
   "outputs": [
    {
     "data": {
      "text/plain": [
       "[1, 3, 5, 7, 9, 'nisam', 'nihal', 'magnus', 'Ding', 'Vishy']"
      ]
     },
     "execution_count": 43,
     "metadata": {},
     "output_type": "execute_result"
    }
   ],
   "source": [
    "myList"
   ]
  },
  {
   "cell_type": "code",
   "execution_count": 44,
   "id": "a4957696",
   "metadata": {},
   "outputs": [],
   "source": [
    "myList.append(\"Praggnanadha\")"
   ]
  },
  {
   "cell_type": "code",
   "execution_count": 45,
   "id": "fba2666b",
   "metadata": {},
   "outputs": [
    {
     "data": {
      "text/plain": [
       "[1, 3, 5, 7, 9, 'nisam', 'nihal', 'magnus', 'Ding', 'Vishy', 'Praggnanadha']"
      ]
     },
     "execution_count": 45,
     "metadata": {},
     "output_type": "execute_result"
    }
   ],
   "source": [
    "myList"
   ]
  },
  {
   "cell_type": "code",
   "execution_count": 47,
   "id": "34986cf1",
   "metadata": {},
   "outputs": [],
   "source": [
    "myList.append(\"Arjun\")"
   ]
  },
  {
   "cell_type": "code",
   "execution_count": 48,
   "id": "a5aa9c93",
   "metadata": {},
   "outputs": [
    {
     "data": {
      "text/plain": [
       "[1,\n",
       " 3,\n",
       " 5,\n",
       " 7,\n",
       " 9,\n",
       " 'nisam',\n",
       " 'nihal',\n",
       " 'magnus',\n",
       " 'Ding',\n",
       " 'Vishy',\n",
       " 'Praggnanadha',\n",
       " 'Arjun']"
      ]
     },
     "execution_count": 48,
     "metadata": {},
     "output_type": "execute_result"
    }
   ],
   "source": [
    "myList"
   ]
  },
  {
   "cell_type": "code",
   "execution_count": 52,
   "id": "be44d0a6",
   "metadata": {},
   "outputs": [],
   "source": [
    "myList.append([\"alex\",'Vishnu'])"
   ]
  },
  {
   "cell_type": "code",
   "execution_count": 53,
   "id": "5c719f73",
   "metadata": {},
   "outputs": [
    {
     "data": {
      "text/plain": [
       "[1,\n",
       " 3,\n",
       " 5,\n",
       " 7,\n",
       " 9,\n",
       " 'nisam',\n",
       " 'nihal',\n",
       " 'magnus',\n",
       " 'Ding',\n",
       " 'Vishy',\n",
       " 'Praggnanadha',\n",
       " 'Arjun',\n",
       " 'alex',\n",
       " ['alex', 'Vishnu']]"
      ]
     },
     "execution_count": 53,
     "metadata": {},
     "output_type": "execute_result"
    }
   ],
   "source": [
    "myList"
   ]
  },
  {
   "cell_type": "code",
   "execution_count": 55,
   "id": "9be368c8",
   "metadata": {},
   "outputs": [
    {
     "name": "stdout",
     "output_type": "stream",
     "text": [
      "[11000, 21000, 16000, 35000, 55000, 66000]\n"
     ]
    }
   ],
   "source": [
    "salary = [10000,20000,15000,34000,54000,65000]\n",
    "newSalary = []\n",
    "for sal in salary:\n",
    "    newSalary.append(sal+1000)\n",
    "print(newSalary)"
   ]
  },
  {
   "cell_type": "code",
   "execution_count": 57,
   "id": "7eec8175",
   "metadata": {},
   "outputs": [],
   "source": [
    "myList=[1,2,3,4,5,6,7]"
   ]
  },
  {
   "cell_type": "code",
   "execution_count": 61,
   "id": "aafaad2f",
   "metadata": {},
   "outputs": [
    {
     "name": "stdout",
     "output_type": "stream",
     "text": [
      "[10, 20, 30, 40, 50, 60, 70]\n"
     ]
    }
   ],
   "source": [
    "new_list=[]\n",
    "for value in myList:\n",
    "    new_list.append(value*10)\n",
    "print(new_list)"
   ]
  },
  {
   "cell_type": "code",
   "execution_count": 62,
   "id": "bb246013",
   "metadata": {},
   "outputs": [],
   "source": [
    "out = []\n",
    "for i in out:\n",
    "    print(i)"
   ]
  },
  {
   "cell_type": "code",
   "execution_count": 63,
   "id": "6b0ea7c7",
   "metadata": {},
   "outputs": [
    {
     "data": {
      "text/plain": [
       "[1, 2, 3, 4, 5, 6, 7]"
      ]
     },
     "execution_count": 63,
     "metadata": {},
     "output_type": "execute_result"
    }
   ],
   "source": [
    "myList"
   ]
  },
  {
   "cell_type": "code",
   "execution_count": 64,
   "id": "688c7a3f",
   "metadata": {},
   "outputs": [
    {
     "name": "stdout",
     "output_type": "stream",
     "text": [
      "1\n",
      "2\n",
      "3\n",
      "4\n",
      "5\n",
      "6\n",
      "7\n"
     ]
    }
   ],
   "source": [
    "for element in myList:\n",
    "    print(element) "
   ]
  },
  {
   "attachments": {
    "python-for-loop.png": {
     "image/png": "[encoded data removed]"
    }
   },
   "cell_type": "markdown",
   "id": "69b4da80",
   "metadata": {},
   "source": [
    "## ![python-for-loop.png](attachment:python-for-loop.png)"
   ]
  },
  {
   "cell_type": "code",
   "execution_count": 65,
   "id": "844d04fe",
   "metadata": {},
   "outputs": [
    {
     "data": {
      "text/plain": [
       "[1, 2, 3, 4, 5, 6, 7]"
      ]
     },
     "execution_count": 65,
     "metadata": {},
     "output_type": "execute_result"
    }
   ],
   "source": [
    "myList"
   ]
  },
  {
   "cell_type": "code",
   "execution_count": 68,
   "id": "dc01c6ba",
   "metadata": {},
   "outputs": [
    {
     "name": "stdout",
     "output_type": "stream",
     "text": [
      "[10]\n",
      "[10, 20]\n",
      "[10, 20, 30]\n",
      "[10, 20, 30, 40]\n",
      "[10, 20, 30, 40, 50]\n",
      "[10, 20, 30, 40, 50, 60]\n",
      "[10, 20, 30, 40, 50, 60, 70]\n"
     ]
    }
   ],
   "source": [
    "new_list=[]\n",
    "for value in myList:\n",
    "    new_list.append(value*10)\n",
    "    print(new_list)"
   ]
  },
  {
   "cell_type": "code",
   "execution_count": 76,
   "id": "72ed5507",
   "metadata": {},
   "outputs": [],
   "source": [
    "list2 = [1,6,7,5,9,\"nihal\",'pragg','vishy',\"carlson\",45,34,34,True,False,45.5,344.23]"
   ]
  },
  {
   "cell_type": "code",
   "execution_count": 77,
   "id": "5c8f1205",
   "metadata": {},
   "outputs": [
    {
     "data": {
      "text/plain": [
       "[1,\n",
       " 6,\n",
       " 7,\n",
       " 5,\n",
       " 9,\n",
       " 'nihal',\n",
       " 'pragg',\n",
       " 'vishy',\n",
       " 'carlson',\n",
       " 45,\n",
       " 34,\n",
       " 34,\n",
       " True,\n",
       " False,\n",
       " 45.5,\n",
       " 344.23]"
      ]
     },
     "execution_count": 77,
     "metadata": {},
     "output_type": "execute_result"
    }
   ],
   "source": [
    "list2"
   ]
  },
  {
   "cell_type": "code",
   "execution_count": 82,
   "id": "760093dd",
   "metadata": {},
   "outputs": [],
   "source": [
    "numberList = []\n",
    "for i in list2:\n",
    "    if type(i)==int:\n",
    "        numberList.append(i**2)"
   ]
  },
  {
   "cell_type": "code",
   "execution_count": 83,
   "id": "8abc6806",
   "metadata": {},
   "outputs": [
    {
     "data": {
      "text/plain": [
       "[1, 36, 49, 25, 81, 2025, 1156, 1156]"
      ]
     },
     "execution_count": 83,
     "metadata": {},
     "output_type": "execute_result"
    }
   ],
   "source": [
    "numberList"
   ]
  },
  {
   "cell_type": "code",
   "execution_count": 84,
   "id": "e49b0c5d",
   "metadata": {},
   "outputs": [],
   "source": [
    "# wholeList = ['']"
   ]
  },
  {
   "cell_type": "code",
   "execution_count": 93,
   "id": "d43cf581",
   "metadata": {},
   "outputs": [],
   "source": [
    "myList=[1,5,7,8]"
   ]
  },
  {
   "cell_type": "code",
   "execution_count": 94,
   "id": "1a4b9fb4",
   "metadata": {},
   "outputs": [
    {
     "data": {
      "text/plain": [
       "[1, 5, 7, 8]"
      ]
     },
     "execution_count": 94,
     "metadata": {},
     "output_type": "execute_result"
    }
   ],
   "source": [
    "myList"
   ]
  },
  {
   "cell_type": "code",
   "execution_count": 96,
   "id": "908bb437",
   "metadata": {},
   "outputs": [
    {
     "name": "stdout",
     "output_type": "stream",
     "text": [
      "0\n",
      "0\n",
      "0\n",
      "0\n"
     ]
    }
   ],
   "source": [
    "out=0\n",
    "for value in myList:\n",
    "    if type(value)==int:\n",
    "        out=out*value\n",
    "    print(out)"
   ]
  },
  {
   "cell_type": "code",
   "execution_count": 97,
   "id": "cfb0fc85",
   "metadata": {},
   "outputs": [],
   "source": [
    "#1-create a new with odd and even values , then from the give list create a new list with odd values and even vlaues "
   ]
  },
  {
   "cell_type": "markdown",
   "id": "9f5bd031",
   "metadata": {},
   "source": [
    "## Break"
   ]
  },
  {
   "cell_type": "code",
   "execution_count": 1,
   "id": "8e57c857",
   "metadata": {},
   "outputs": [],
   "source": [
    "myList = [1,3,4,5,7,8,9,\"Nihal\",'Carlson','Vishy','Arjun','Pragg']"
   ]
  },
  {
   "cell_type": "code",
   "execution_count": 4,
   "id": "96f94dd2",
   "metadata": {},
   "outputs": [],
   "source": [
    "# for x in myList:\n",
    "#     if x ==9:\n",
    "#         break\n",
    "#     print(x)"
   ]
  },
  {
   "cell_type": "code",
   "execution_count": 5,
   "id": "a3dc18c1",
   "metadata": {},
   "outputs": [
    {
     "data": {
      "text/plain": [
       "[1, 3, 4, 5, 7, 8, 9, 'Nihal', 'Carlson', 'Vishy', 'Arjun', 'Pragg']"
      ]
     },
     "execution_count": 5,
     "metadata": {},
     "output_type": "execute_result"
    }
   ],
   "source": [
    "myList"
   ]
  },
  {
   "cell_type": "code",
   "execution_count": null,
   "id": "2fe5b6cd",
   "metadata": {},
   "outputs": [],
   "source": []
  },
  {
   "cell_type": "code",
   "execution_count": 8,
   "id": "3b3bf279",
   "metadata": {},
   "outputs": [
    {
     "name": "stdout",
     "output_type": "stream",
     "text": [
      "1\n",
      "3\n",
      "4\n",
      "5\n",
      "7\n",
      "8\n"
     ]
    }
   ],
   "source": [
    "for i in myList:\n",
    "    if i==9:\n",
    "        break\n",
    "    print(i)\n",
    "else:\n",
    "    print('You are out of loop')"
   ]
  },
  {
   "cell_type": "code",
   "execution_count": 11,
   "id": "6c33e411",
   "metadata": {},
   "outputs": [],
   "source": [
    "# x =10\n",
    "# if x==5:\n",
    "#     print(\"testing\")\n",
    "# else:\n",
    "#     print('Exit from condition')"
   ]
  },
  {
   "cell_type": "code",
   "execution_count": 12,
   "id": "323f28a9",
   "metadata": {},
   "outputs": [],
   "source": [
    "newList = [1,3,5,7,9,11,13,15,17,19,21,23,25]"
   ]
  },
  {
   "cell_type": "code",
   "execution_count": 16,
   "id": "7ff86282",
   "metadata": {},
   "outputs": [
    {
     "name": "stdout",
     "output_type": "stream",
     "text": [
      "1\n",
      "3\n",
      "5\n",
      "7\n",
      "9\n",
      "11\n",
      "13\n",
      "15\n",
      "17\n"
     ]
    }
   ],
   "source": [
    "for i in newList:\n",
    "    if i==19:\n",
    "        break\n",
    "    print(i)\n",
    "else:\n",
    "    print('You are out of the loop')"
   ]
  },
  {
   "cell_type": "code",
   "execution_count": 14,
   "id": "af131315",
   "metadata": {},
   "outputs": [
    {
     "data": {
      "text/plain": [
       "[1, 3, 5, 7, 9, 11, 13, 15, 17, 19, 21, 23, 25]"
      ]
     },
     "execution_count": 14,
     "metadata": {},
     "output_type": "execute_result"
    }
   ],
   "source": [
    "newList"
   ]
  },
  {
   "cell_type": "code",
   "execution_count": null,
   "id": "fe3ca188",
   "metadata": {},
   "outputs": [],
   "source": []
  },
  {
   "cell_type": "code",
   "execution_count": 17,
   "id": "9cbf3503",
   "metadata": {},
   "outputs": [
    {
     "name": "stdout",
     "output_type": "stream",
     "text": [
      "1\n",
      "3\n",
      "5\n",
      "7\n",
      "9\n",
      "11\n",
      "13\n",
      "15\n",
      "17\n",
      "21\n",
      "23\n",
      "25\n",
      "You are out of the loop\n"
     ]
    }
   ],
   "source": [
    "for i in newList:\n",
    "    if i==19:\n",
    "        continue\n",
    "    print(i)\n",
    "else:\n",
    "    print('You are out of the loop')"
   ]
  },
  {
   "cell_type": "code",
   "execution_count": 23,
   "id": "cbe93427",
   "metadata": {},
   "outputs": [],
   "source": [
    "test2 = [1,3,4,56,7,8,9]"
   ]
  },
  {
   "cell_type": "code",
   "execution_count": 24,
   "id": "751e559f",
   "metadata": {},
   "outputs": [
    {
     "name": "stdout",
     "output_type": "stream",
     "text": [
      "1\n",
      "3\n",
      "4\n",
      "7\n",
      "8\n",
      "9\n"
     ]
    }
   ],
   "source": [
    "for i in test2:\n",
    "    if i >10:\n",
    "        continue\n",
    "    print(i)"
   ]
  },
  {
   "cell_type": "code",
   "execution_count": 25,
   "id": "1484764a",
   "metadata": {},
   "outputs": [],
   "source": [
    "test2 = [1,3,4,56,7,8,9,10]"
   ]
  },
  {
   "cell_type": "code",
   "execution_count": 26,
   "id": "c0d44868",
   "metadata": {},
   "outputs": [
    {
     "name": "stdout",
     "output_type": "stream",
     "text": [
      "10\n"
     ]
    }
   ],
   "source": [
    "for i in test2:\n",
    "    if i !=10:\n",
    "        continue\n",
    "    print(i)"
   ]
  },
  {
   "cell_type": "code",
   "execution_count": 28,
   "id": "d7019a8e",
   "metadata": {},
   "outputs": [],
   "source": [
    "test3 = [10,10,10,10,10,101,10,10]"
   ]
  },
  {
   "cell_type": "code",
   "execution_count": 29,
   "id": "6f8fdf18",
   "metadata": {},
   "outputs": [
    {
     "name": "stdout",
     "output_type": "stream",
     "text": [
      "10\n",
      "10\n",
      "10\n",
      "10\n",
      "10\n"
     ]
    }
   ],
   "source": [
    "for i in test3:\n",
    "    if i !=10:\n",
    "        break\n",
    "    print(i)"
   ]
  },
  {
   "cell_type": "markdown",
   "id": "58bcacaf",
   "metadata": {},
   "source": [
    "## range"
   ]
  },
  {
   "cell_type": "markdown",
   "id": "7a6f6ef8",
   "metadata": {},
   "source": [
    "##### range is used for number generation with a given criteria"
   ]
  },
  {
   "cell_type": "code",
   "execution_count": 33,
   "id": "770051f7",
   "metadata": {},
   "outputs": [],
   "source": [
    "# print()"
   ]
  },
  {
   "cell_type": "code",
   "execution_count": 32,
   "id": "9d806e60",
   "metadata": {},
   "outputs": [],
   "source": [
    "# len()"
   ]
  },
  {
   "cell_type": "code",
   "execution_count": 34,
   "id": "7789ae34",
   "metadata": {},
   "outputs": [],
   "source": [
    "# type()"
   ]
  },
  {
   "cell_type": "code",
   "execution_count": 22,
   "id": "d3690018",
   "metadata": {},
   "outputs": [
    {
     "data": {
      "text/plain": [
       "[1, 4, 7]"
      ]
     },
     "execution_count": 22,
     "metadata": {},
     "output_type": "execute_result"
    }
   ],
   "source": [
    "list(range(1,10,3))"
   ]
  },
  {
   "cell_type": "code",
   "execution_count": 36,
   "id": "8064e5d7",
   "metadata": {},
   "outputs": [
    {
     "data": {
      "text/plain": [
       "[0, 1, 2, 3, 4, 5, 6, 7, 8, 9]"
      ]
     },
     "execution_count": 36,
     "metadata": {},
     "output_type": "execute_result"
    }
   ],
   "source": [
    "list(range(0,10))#start, end-1,step"
   ]
  },
  {
   "cell_type": "code",
   "execution_count": 25,
   "id": "9f7f77ea",
   "metadata": {},
   "outputs": [
    {
     "name": "stdout",
     "output_type": "stream",
     "text": [
      "0\n",
      "1\n",
      "2\n",
      "3\n",
      "4\n",
      "5\n",
      "6\n",
      "7\n",
      "8\n",
      "9\n"
     ]
    }
   ],
   "source": [
    "for i in range(0,10):\n",
    "    print(i)"
   ]
  },
  {
   "cell_type": "code",
   "execution_count": null,
   "id": "605a91c6",
   "metadata": {},
   "outputs": [],
   "source": []
  },
  {
   "cell_type": "code",
   "execution_count": 38,
   "id": "8aa07ca8",
   "metadata": {},
   "outputs": [],
   "source": [
    "#generators and iterators"
   ]
  },
  {
   "cell_type": "code",
   "execution_count": 40,
   "id": "14b558cd",
   "metadata": {},
   "outputs": [
    {
     "data": {
      "text/plain": [
       "[10, 11, 12, 13, 14, 15, 16, 17, 18, 19]"
      ]
     },
     "execution_count": 40,
     "metadata": {},
     "output_type": "execute_result"
    }
   ],
   "source": [
    "list(range(10,20))"
   ]
  },
  {
   "cell_type": "code",
   "execution_count": 41,
   "id": "4b141175",
   "metadata": {},
   "outputs": [],
   "source": [
    "out=range(20,30)"
   ]
  },
  {
   "cell_type": "code",
   "execution_count": 44,
   "id": "d28f67fe",
   "metadata": {},
   "outputs": [
    {
     "data": {
      "text/plain": [
       "[20, 21, 22, 23, 24, 25, 26, 27, 28, 29]"
      ]
     },
     "execution_count": 44,
     "metadata": {},
     "output_type": "execute_result"
    }
   ],
   "source": [
    "list(out)"
   ]
  },
  {
   "cell_type": "code",
   "execution_count": 42,
   "id": "51b48e8e",
   "metadata": {},
   "outputs": [
    {
     "name": "stdout",
     "output_type": "stream",
     "text": [
      "20\n",
      "21\n",
      "22\n",
      "23\n",
      "24\n",
      "25\n",
      "26\n",
      "27\n",
      "28\n",
      "29\n"
     ]
    }
   ],
   "source": [
    "for i in out:\n",
    "    print(i)"
   ]
  },
  {
   "cell_type": "markdown",
   "id": "d4e42ab6",
   "metadata": {},
   "source": [
    "range(start,end,step)"
   ]
  },
  {
   "cell_type": "code",
   "execution_count": 46,
   "id": "04148633",
   "metadata": {},
   "outputs": [
    {
     "data": {
      "text/plain": [
       "[30, 33, 36, 39, 42, 45, 48]"
      ]
     },
     "execution_count": 46,
     "metadata": {},
     "output_type": "execute_result"
    }
   ],
   "source": [
    "list(range(30,50,3))"
   ]
  },
  {
   "cell_type": "code",
   "execution_count": 52,
   "id": "0f7860ca",
   "metadata": {},
   "outputs": [
    {
     "name": "stdout",
     "output_type": "stream",
     "text": [
      "50\n",
      "53\n",
      "56\n",
      "59\n",
      "62\n",
      "68\n",
      "71\n",
      "74\n",
      "77\n"
     ]
    }
   ],
   "source": [
    "for i in range(50,80,3):\n",
    "    if i ==65:\n",
    "        continue\n",
    "    print(i)"
   ]
  },
  {
   "cell_type": "code",
   "execution_count": 50,
   "id": "1d94922d",
   "metadata": {},
   "outputs": [],
   "source": [
    "# tuple(range(0,10,2))"
   ]
  },
  {
   "cell_type": "code",
   "execution_count": 58,
   "id": "68a830ac",
   "metadata": {},
   "outputs": [
    {
     "data": {
      "text/plain": [
       "[1, 3, 4, 5, 7, 8, 9, 'Nihal', 'Carlson', 'Vishy', 'Arjun', 'Pragg']"
      ]
     },
     "execution_count": 58,
     "metadata": {},
     "output_type": "execute_result"
    }
   ],
   "source": [
    "myList"
   ]
  },
  {
   "cell_type": "code",
   "execution_count": 59,
   "id": "6d87924c",
   "metadata": {},
   "outputs": [
    {
     "data": {
      "text/plain": [
       "12"
      ]
     },
     "execution_count": 59,
     "metadata": {},
     "output_type": "execute_result"
    }
   ],
   "source": [
    "len(myList)"
   ]
  },
  {
   "cell_type": "code",
   "execution_count": 60,
   "id": "703a87d7",
   "metadata": {},
   "outputs": [
    {
     "name": "stdout",
     "output_type": "stream",
     "text": [
      "0\n",
      "1\n",
      "2\n",
      "3\n",
      "4\n",
      "5\n",
      "6\n",
      "7\n",
      "8\n",
      "9\n",
      "10\n",
      "11\n"
     ]
    }
   ],
   "source": [
    "for i in range(len(myList)):\n",
    "    print(i)"
   ]
  },
  {
   "cell_type": "code",
   "execution_count": 56,
   "id": "a996d441",
   "metadata": {},
   "outputs": [
    {
     "data": {
      "text/plain": [
       "range(0, 10)"
      ]
     },
     "execution_count": 56,
     "metadata": {},
     "output_type": "execute_result"
    }
   ],
   "source": [
    "range(10)"
   ]
  },
  {
   "cell_type": "code",
   "execution_count": 77,
   "id": "e02ebd34",
   "metadata": {},
   "outputs": [
    {
     "name": "stdout",
     "output_type": "stream",
     "text": [
      "[2, 3, 9]\n",
      "['l', 'l', 'l']\n"
     ]
    }
   ],
   "source": [
    "strr=\"Hello World\"\n",
    "l=[]\n",
    "l1=[]\n",
    "for x in range(len(strr)):\n",
    "    if strr[x] == \"l\":\n",
    "        l.append(x)\n",
    "        l1.append(strr[x])\n",
    "print(l,l1,sep='\\n')"
   ]
  },
  {
   "cell_type": "code",
   "execution_count": 68,
   "id": "481e7e51",
   "metadata": {},
   "outputs": [
    {
     "data": {
      "text/plain": [
       "[0, 1, 2, 3, 4, 5, 6, 7, 8, 9, 10]"
      ]
     },
     "execution_count": 68,
     "metadata": {},
     "output_type": "execute_result"
    }
   ],
   "source": [
    "list(range(len(strr)))"
   ]
  },
  {
   "cell_type": "code",
   "execution_count": 79,
   "id": "1d8ae408",
   "metadata": {},
   "outputs": [
    {
     "data": {
      "text/plain": [
       "'l'"
      ]
     },
     "execution_count": 79,
     "metadata": {},
     "output_type": "execute_result"
    }
   ],
   "source": [
    "strr[9]"
   ]
  },
  {
   "cell_type": "code",
   "execution_count": 90,
   "id": "b2c5f20a",
   "metadata": {},
   "outputs": [
    {
     "name": "stdout",
     "output_type": "stream",
     "text": [
      "my list with index values: [4, 5]\n",
      "my list with values: ['m', 'm']\n"
     ]
    }
   ],
   "source": [
    "myString=\"Nisamm\"\n",
    "myList1=[]\n",
    "myList2=[]\n",
    "for x in range(len(myString)):\n",
    "#     print(x)\n",
    "    if myString[x] == \"m\": \n",
    "        myList1.append(x)\n",
    "        myList2.append(myString[x])\n",
    "#     print(myString[x])\n",
    "print(\"my list with index values:\",myList1)\n",
    "print(\"my list with values:\",myList2)"
   ]
  },
  {
   "cell_type": "code",
   "execution_count": 27,
   "id": "3f9eb560",
   "metadata": {},
   "outputs": [
    {
     "name": "stdout",
     "output_type": "stream",
     "text": [
      "Enter a text: DeepIKA\n",
      "['e', 'e', 'p']\n",
      "['D', 'I', 'K', 'A']\n"
     ]
    }
   ],
   "source": [
    "text=input('Enter a text: ')\n",
    "lower=[]\n",
    "upper=[]\n",
    "for t in text:\n",
    "    if t.islower()==True:\n",
    "        lower.append(t)\n",
    "    else:\n",
    "        upper.append(t)\n",
    "print(lower)\n",
    "print(upper)\n",
    "        "
   ]
  },
  {
   "cell_type": "markdown",
   "id": "dcee50f7",
   "metadata": {},
   "source": [
    "Pneumonoultramicroscopicsilicovolcanoconiosis "
   ]
  },
  {
   "cell_type": "markdown",
   "id": "418decb3",
   "metadata": {},
   "source": [
    "Hippopotomonstrosesquippedaliophobia"
   ]
  },
  {
   "cell_type": "markdown",
   "id": "b3f44a7a",
   "metadata": {},
   "source": [
    "## Flauccinaucinihilipilification"
   ]
  },
  {
   "cell_type": "code",
   "execution_count": null,
   "id": "88417ac8",
   "metadata": {},
   "outputs": [],
   "source": []
  },
  {
   "cell_type": "code",
   "execution_count": 112,
   "id": "564286b3",
   "metadata": {},
   "outputs": [
    {
     "name": "stdout",
     "output_type": "stream",
     "text": [
      "Who are you?: nisam is out of range\n",
      "Hey Nisam\n"
     ]
    }
   ],
   "source": [
    "# name=input('Who are you?: ')\n",
    "# if name.startswith(\"nisam\"):\n",
    "#     print('Hey Nisam')\n",
    "# else:\n",
    "#     print('Stranger')"
   ]
  },
  {
   "cell_type": "code",
   "execution_count": 28,
   "id": "c63f4494",
   "metadata": {},
   "outputs": [],
   "source": [
    "test = [1,2,3,4,5,6,7,8,100]"
   ]
  },
  {
   "cell_type": "code",
   "execution_count": 36,
   "id": "9473aaab",
   "metadata": {},
   "outputs": [
    {
     "name": "stdout",
     "output_type": "stream",
     "text": [
      "1\n",
      "2\n",
      "3\n",
      "4\n",
      "6\n",
      "7\n",
      "8\n",
      "100\n",
      "Loop Successfully Completed\n"
     ]
    }
   ],
   "source": [
    "for t in test:\n",
    "    if t==5:\n",
    "        continue\n",
    "    print(t)\n",
    "else:\n",
    "    print('Loop Successfully Completed')"
   ]
  },
  {
   "cell_type": "code",
   "execution_count": 30,
   "id": "eb508dde",
   "metadata": {},
   "outputs": [
    {
     "name": "stdout",
     "output_type": "stream",
     "text": [
      "Condition Satisfied\n"
     ]
    }
   ],
   "source": [
    "i=10\n",
    "if i==10:\n",
    "    print('Condition Satisfied')\n",
    "else:\n",
    "    print('Condition is not Satisfied')"
   ]
  },
  {
   "cell_type": "code",
   "execution_count": null,
   "id": "31af74c6",
   "metadata": {},
   "outputs": [],
   "source": []
  },
  {
   "cell_type": "code",
   "execution_count": null,
   "id": "4d4f7844",
   "metadata": {},
   "outputs": [],
   "source": []
  },
  {
   "cell_type": "code",
   "execution_count": null,
   "id": "938add5c",
   "metadata": {},
   "outputs": [],
   "source": []
  },
  {
   "cell_type": "code",
   "execution_count": null,
   "id": "c889b2ec",
   "metadata": {},
   "outputs": [],
   "source": []
  },
  {
   "cell_type": "code",
   "execution_count": null,
   "id": "f6dd9647",
   "metadata": {},
   "outputs": [],
   "source": []
  },
  {
   "cell_type": "code",
   "execution_count": null,
   "id": "74895c08",
   "metadata": {},
   "outputs": [],
   "source": []
  },
  {
   "cell_type": "code",
   "execution_count": null,
   "id": "859a0e22",
   "metadata": {},
   "outputs": [],
   "source": []
  },
  {
   "cell_type": "code",
   "execution_count": 105,
   "id": "de1bf86b",
   "metadata": {},
   "outputs": [
    {
     "name": "stdout",
     "output_type": "stream",
     "text": [
      "[1, 4]>>>>>>>>>>>>['e', 'e']\n"
     ]
    }
   ],
   "source": [
    "myString = \"Bennedcit\"\n",
    "listwithIdx = []\n",
    "listwithValue=[]\n",
    "for n in range(len(myString)):\n",
    "    #adding my condition\n",
    "    if myString[n] ==\"e\":\n",
    "        listwithIdx.append(n)\n",
    "        listwithValue.append(myString[n])\n",
    "print(listwithIdx,listwithValue,sep=\">>>>>>>>>>>>\")"
   ]
  },
  {
   "cell_type": "code",
   "execution_count": 54,
   "id": "c85b7491",
   "metadata": {},
   "outputs": [
    {
     "name": "stdout",
     "output_type": "stream",
     "text": [
      "Enter a text: Nuanonos\n",
      "[3, 5]\n",
      "['n', 'n']\n"
     ]
    }
   ],
   "source": [
    "strr = input('Enter a text: ')\n",
    "list1=[]\n",
    "list2=[]\n",
    "for x in range(len(strr)):\n",
    "    if strr[x] == \"n\":\n",
    "        list1.append(x)\n",
    "        list2.append(strr[x])\n",
    "print(list1,list2,sep='\\n')"
   ]
  },
  {
   "cell_type": "code",
   "execution_count": 51,
   "id": "ebb4bda9",
   "metadata": {},
   "outputs": [
    {
     "data": {
      "text/plain": [
       "'H'"
      ]
     },
     "execution_count": 51,
     "metadata": {},
     "output_type": "execute_result"
    }
   ],
   "source": [
    "strr=\"Hello World\"\n",
    "strr[0]"
   ]
  },
  {
   "cell_type": "code",
   "execution_count": 39,
   "id": "0a77bf23",
   "metadata": {},
   "outputs": [
    {
     "data": {
      "text/plain": [
       "[0, 1, 2, 3, 4, 5, 6, 7, 8, 9, 10]"
      ]
     },
     "execution_count": 39,
     "metadata": {},
     "output_type": "execute_result"
    }
   ],
   "source": [
    "list(range(len(strr)))"
   ]
  },
  {
   "cell_type": "code",
   "execution_count": 44,
   "id": "61edd850",
   "metadata": {},
   "outputs": [
    {
     "data": {
      "text/plain": [
       "[11, 13, 15, 17, 19]"
      ]
     },
     "execution_count": 44,
     "metadata": {},
     "output_type": "execute_result"
    }
   ],
   "source": [
    "# list(range(11,20,2))"
   ]
  },
  {
   "cell_type": "code",
   "execution_count": 46,
   "id": "57852ec9",
   "metadata": {},
   "outputs": [
    {
     "ename": "TypeError",
     "evalue": "'float' object cannot be interpreted as an integer",
     "output_type": "error",
     "traceback": [
      "\u001b[1;31m---------------------------------------------------------------------------\u001b[0m",
      "\u001b[1;31mTypeError\u001b[0m                                 Traceback (most recent call last)",
      "Cell \u001b[1;32mIn[46], line 1\u001b[0m\n\u001b[1;32m----> 1\u001b[0m \u001b[38;5;28mlist\u001b[39m(\u001b[38;5;28;43mrange\u001b[39;49m\u001b[43m(\u001b[49m\u001b[38;5;241;43m11.5\u001b[39;49m\u001b[43m,\u001b[49m\u001b[38;5;241;43m20.5\u001b[39;49m\u001b[43m,\u001b[49m\u001b[38;5;241;43m2\u001b[39;49m\u001b[43m)\u001b[49m)\n",
      "\u001b[1;31mTypeError\u001b[0m: 'float' object cannot be interpreted as an integer"
     ]
    }
   ],
   "source": [
    "list(range(11.5,20.5,2))"
   ]
  },
  {
   "cell_type": "code",
   "execution_count": 50,
   "id": "a6f90c2a",
   "metadata": {},
   "outputs": [],
   "source": [
    "# import numpy as np"
   ]
  },
  {
   "cell_type": "code",
   "execution_count": 49,
   "id": "cc759c1d",
   "metadata": {},
   "outputs": [],
   "source": [
    "# np.arange(11.5,20.5,2)"
   ]
  },
  {
   "cell_type": "code",
   "execution_count": null,
   "id": "e47fcb46",
   "metadata": {},
   "outputs": [],
   "source": []
  }
 ],
 "metadata": {
  "kernelspec": {
   "display_name": "Python 3 (ipykernel)",
   "language": "python",
   "name": "python3"
  },
  "language_info": {
   "codemirror_mode": {
    "name": "ipython",
    "version": 3
   },
   "file_extension": ".py",
   "mimetype": "text/x-python",
   "name": "python",
   "nbconvert_exporter": "python",
   "pygments_lexer": "ipython3",
   "version": "3.10.9"
  }
 },
 "nbformat": 4,
 "nbformat_minor": 5
}
